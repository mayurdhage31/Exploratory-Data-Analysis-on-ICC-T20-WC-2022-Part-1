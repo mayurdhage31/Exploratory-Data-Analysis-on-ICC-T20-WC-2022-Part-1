{
 "cells": [
  {
   "cell_type": "markdown",
   "id": "3a523800",
   "metadata": {},
   "source": [
    "# Exploratory Data Analysis on ICC T20 WC 2022: Part 1"
   ]
  },
  {
   "cell_type": "markdown",
   "id": "354f85e0",
   "metadata": {},
   "source": [
    "### Reading the datasets"
   ]
  },
  {
   "cell_type": "code",
   "execution_count": 1,
   "id": "f93dc24c",
   "metadata": {},
   "outputs": [],
   "source": [
    "batt = read.csv('batting_card.csv')\n",
    "bowl = read.csv('bowling_card.csv')\n",
    "details = read.csv('details.csv')\n",
    "t20.sum = read.csv('summary.csv')"
   ]
  },
  {
   "cell_type": "markdown",
   "id": "f1576b9d",
   "metadata": {},
   "source": [
    "### Getting the Prerequisite Libraries"
   ]
  },
  {
   "cell_type": "code",
   "execution_count": 2,
   "id": "6b31bb3f",
   "metadata": {},
   "outputs": [
    {
     "name": "stderr",
     "output_type": "stream",
     "text": [
      "\n",
      "Attaching package: 'dplyr'\n",
      "\n",
      "The following objects are masked from 'package:stats':\n",
      "\n",
      "    filter, lag\n",
      "\n",
      "The following objects are masked from 'package:base':\n",
      "\n",
      "    intersect, setdiff, setequal, union\n",
      "\n",
      "Registered S3 methods overwritten by 'ggplot2':\n",
      "  method         from \n",
      "  [.quosures     rlang\n",
      "  c.quosures     rlang\n",
      "  print.quosures rlang\n"
     ]
    }
   ],
   "source": [
    "library(dplyr)\n",
    "library(ggplot2)"
   ]
  },
  {
   "cell_type": "markdown",
   "id": "54b16a79",
   "metadata": {},
   "source": [
    "#### Most Runs Scored in ICC T20 WC 2022"
   ]
  },
  {
   "cell_type": "code",
   "execution_count": 3,
   "id": "f2477c13",
   "metadata": {},
   "outputs": [
    {
     "data": {
      "text/html": [
       "<table>\n",
       "<thead><tr><th scope=col>Batter</th><th scope=col>Runs</th></tr></thead>\n",
       "<tbody>\n",
       "\t<tr><td>Virat Kohli     </td><td>296             </td></tr>\n",
       "\t<tr><td>Max O'Dowd      </td><td>242             </td></tr>\n",
       "\t<tr><td>Suryakumar Yadav</td><td>239             </td></tr>\n",
       "\t<tr><td>Jos Buttler     </td><td>225             </td></tr>\n",
       "\t<tr><td>Kusal Mendis    </td><td>223             </td></tr>\n",
       "\t<tr><td>Sikandar Raza   </td><td>219             </td></tr>\n",
       "\t<tr><td>Pathum Nissanka </td><td>214             </td></tr>\n",
       "\t<tr><td>Alex Hales      </td><td>212             </td></tr>\n",
       "\t<tr><td>Lorcan Tucker   </td><td>204             </td></tr>\n",
       "\t<tr><td>Glenn Phillips  </td><td>201             </td></tr>\n",
       "</tbody>\n",
       "</table>\n"
      ],
      "text/latex": [
       "\\begin{tabular}{r|ll}\n",
       " Batter & Runs\\\\\n",
       "\\hline\n",
       "\t Virat Kohli      & 296             \\\\\n",
       "\t Max O'Dowd       & 242             \\\\\n",
       "\t Suryakumar Yadav & 239             \\\\\n",
       "\t Jos Buttler      & 225             \\\\\n",
       "\t Kusal Mendis     & 223             \\\\\n",
       "\t Sikandar Raza    & 219             \\\\\n",
       "\t Pathum Nissanka  & 214             \\\\\n",
       "\t Alex Hales       & 212             \\\\\n",
       "\t Lorcan Tucker    & 204             \\\\\n",
       "\t Glenn Phillips   & 201             \\\\\n",
       "\\end{tabular}\n"
      ],
      "text/markdown": [
       "\n",
       "| Batter | Runs |\n",
       "|---|---|\n",
       "| Virat Kohli      | 296              |\n",
       "| Max O'Dowd       | 242              |\n",
       "| Suryakumar Yadav | 239              |\n",
       "| Jos Buttler      | 225              |\n",
       "| Kusal Mendis     | 223              |\n",
       "| Sikandar Raza    | 219              |\n",
       "| Pathum Nissanka  | 214              |\n",
       "| Alex Hales       | 212              |\n",
       "| Lorcan Tucker    | 204              |\n",
       "| Glenn Phillips   | 201              |\n",
       "\n"
      ],
      "text/plain": [
       "   Batter           Runs\n",
       "1  Virat Kohli      296 \n",
       "2  Max O'Dowd       242 \n",
       "3  Suryakumar Yadav 239 \n",
       "4  Jos Buttler      225 \n",
       "5  Kusal Mendis     223 \n",
       "6  Sikandar Raza    219 \n",
       "7  Pathum Nissanka  214 \n",
       "8  Alex Hales       212 \n",
       "9  Lorcan Tucker    204 \n",
       "10 Glenn Phillips   201 "
      ]
     },
     "metadata": {},
     "output_type": "display_data"
    }
   ],
   "source": [
    "most.runs = batt %>% group_by(fullName) %>% \n",
    "  summarise(Runs = sum(runs)) %>% arrange(desc(Runs)) %>% \n",
    "  rename(Batter = fullName) %>% slice(1:10)\n",
    "\n",
    "most.runs"
   ]
  },
  {
   "cell_type": "code",
   "execution_count": 4,
   "id": "41b1672b",
   "metadata": {},
   "outputs": [
    {
     "data": {
      "image/png": "[encoded data removed]",
      "text/plain": [
       "plot without title"
      ]
     },
     "metadata": {},
     "output_type": "display_data"
    }
   ],
   "source": [
    "ggplot(most.runs, aes(reorder(Batter, Runs), Runs)) +\n",
    "  theme_classic() + coord_flip() +\n",
    "  geom_bar(stat = 'identity', fill = 'darkslategray4', col = 'black') +\n",
    "  labs(title = 'Most Runs Scored in ICC T20 WC 2022', x = 'Player Name',\n",
    "       caption = 'Data Source: Kaggle', tag = 'B1' ) +\n",
    "  geom_text(aes(label = Runs, hjust = -0.15), size = 3.5)"
   ]
  },
  {
   "cell_type": "markdown",
   "id": "d8866b91",
   "metadata": {},
   "source": [
    "#### Best Batting Average for Min. 200 Runs Scored in ICC T20 WC 2022"
   ]
  },
  {
   "cell_type": "code",
   "execution_count": 5,
   "id": "4822d882",
   "metadata": {},
   "outputs": [
    {
     "data": {
      "text/html": [
       "<table>\n",
       "<thead><tr><th scope=col>Player</th><th scope=col>Runs.</th><th scope=col>Average</th></tr></thead>\n",
       "<tbody>\n",
       "\t<tr><td>Virat Kohli     </td><td>296             </td><td>98.67           </td></tr>\n",
       "\t<tr><td>Max O'Dowd      </td><td>242             </td><td>34.57           </td></tr>\n",
       "\t<tr><td>Suryakumar Yadav</td><td>239             </td><td>59.75           </td></tr>\n",
       "\t<tr><td>Jos Buttler     </td><td>225             </td><td>45.00           </td></tr>\n",
       "\t<tr><td>Kusal Mendis    </td><td>223             </td><td>31.86           </td></tr>\n",
       "\t<tr><td>Sikandar Raza   </td><td>219             </td><td>27.38           </td></tr>\n",
       "\t<tr><td>Pathum Nissanka </td><td>214             </td><td>30.57           </td></tr>\n",
       "\t<tr><td>Alex Hales      </td><td>212             </td><td>42.40           </td></tr>\n",
       "\t<tr><td>Lorcan Tucker   </td><td>204             </td><td>40.80           </td></tr>\n",
       "\t<tr><td>Glenn Phillips  </td><td>201             </td><td>40.20           </td></tr>\n",
       "</tbody>\n",
       "</table>\n"
      ],
      "text/latex": [
       "\\begin{tabular}{r|lll}\n",
       " Player & Runs. & Average\\\\\n",
       "\\hline\n",
       "\t Virat Kohli      & 296              & 98.67           \\\\\n",
       "\t Max O'Dowd       & 242              & 34.57           \\\\\n",
       "\t Suryakumar Yadav & 239              & 59.75           \\\\\n",
       "\t Jos Buttler      & 225              & 45.00           \\\\\n",
       "\t Kusal Mendis     & 223              & 31.86           \\\\\n",
       "\t Sikandar Raza    & 219              & 27.38           \\\\\n",
       "\t Pathum Nissanka  & 214              & 30.57           \\\\\n",
       "\t Alex Hales       & 212              & 42.40           \\\\\n",
       "\t Lorcan Tucker    & 204              & 40.80           \\\\\n",
       "\t Glenn Phillips   & 201              & 40.20           \\\\\n",
       "\\end{tabular}\n"
      ],
      "text/markdown": [
       "\n",
       "| Player | Runs. | Average |\n",
       "|---|---|---|\n",
       "| Virat Kohli      | 296              | 98.67            |\n",
       "| Max O'Dowd       | 242              | 34.57            |\n",
       "| Suryakumar Yadav | 239              | 59.75            |\n",
       "| Jos Buttler      | 225              | 45.00            |\n",
       "| Kusal Mendis     | 223              | 31.86            |\n",
       "| Sikandar Raza    | 219              | 27.38            |\n",
       "| Pathum Nissanka  | 214              | 30.57            |\n",
       "| Alex Hales       | 212              | 42.40            |\n",
       "| Lorcan Tucker    | 204              | 40.80            |\n",
       "| Glenn Phillips   | 201              | 40.20            |\n",
       "\n"
      ],
      "text/plain": [
       "   Player           Runs. Average\n",
       "1  Virat Kohli      296   98.67  \n",
       "2  Max O'Dowd       242   34.57  \n",
       "3  Suryakumar Yadav 239   59.75  \n",
       "4  Jos Buttler      225   45.00  \n",
       "5  Kusal Mendis     223   31.86  \n",
       "6  Sikandar Raza    219   27.38  \n",
       "7  Pathum Nissanka  214   30.57  \n",
       "8  Alex Hales       212   42.40  \n",
       "9  Lorcan Tucker    204   40.80  \n",
       "10 Glenn Phillips   201   40.20  "
      ]
     },
     "metadata": {},
     "output_type": "display_data"
    }
   ],
   "source": [
    "bat.avg = batt %>% group_by(fullName) %>% summarise(Runs. = sum(runs), \n",
    "  Innings = n(), Not.out = sum(isNotOut), \n",
    "  Average = round(Runs./(Innings - Not.out), digits = 2)) %>% \n",
    "  arrange(desc(Runs.)) %>% slice(1:10) %>% rename(Player = fullName) %>% \n",
    "  select(Player, Runs., Average)\n",
    "\n",
    "bat.avg"
   ]
  },
  {
   "cell_type": "code",
   "execution_count": 6,
   "id": "54760a75",
   "metadata": {},
   "outputs": [
    {
     "data": {
      "image/png": "[encoded data removed]",
      "text/plain": [
       "plot without title"
      ]
     },
     "metadata": {},
     "output_type": "display_data"
    }
   ],
   "source": [
    "ggplot(bat.avg, aes(reorder(Player, Average), Average)) +\n",
    "  theme_classic() + coord_flip() +\n",
    "  geom_bar(stat = 'identity', fill = 'darkslategray4', col = 'black') +\n",
    "  geom_text(aes(label = Average, hjust = -0.0001),  size = 3) +\n",
    "labs(title= 'Best Batting Average for Min. 200 Runs Scored in ICC T20 WC 2022',\n",
    "       x = 'Player Name',\n",
    "       y = 'Batting Average', caption = 'Data Source: Kaggle', tag = 'B2')"
   ]
  },
  {
   "cell_type": "markdown",
   "id": "51ae89d2",
   "metadata": {},
   "source": [
    "#### Most Fours Hit by Batters in ICC T20 WC 2022"
   ]
  },
  {
   "cell_type": "code",
   "execution_count": 7,
   "id": "a4c84950",
   "metadata": {},
   "outputs": [
    {
     "data": {
      "text/html": [
       "<table>\n",
       "<thead><tr><th scope=col>Batter</th><th scope=col>Total_Fours</th></tr></thead>\n",
       "<tbody>\n",
       "\t<tr><td>Suryakumar Yadav     </td><td>26                   </td></tr>\n",
       "\t<tr><td>Virat Kohli          </td><td>25                   </td></tr>\n",
       "\t<tr><td>Jos Buttler          </td><td>24                   </td></tr>\n",
       "\t<tr><td>Max O'Dowd           </td><td>22                   </td></tr>\n",
       "\t<tr><td>Najmul Hossain Shanto</td><td>20                   </td></tr>\n",
       "\t<tr><td>Alex Hales           </td><td>19                   </td></tr>\n",
       "\t<tr><td>Glenn Phillips       </td><td>19                   </td></tr>\n",
       "\t<tr><td>Lorcan Tucker        </td><td>19                   </td></tr>\n",
       "\t<tr><td>Kusal Mendis         </td><td>17                   </td></tr>\n",
       "\t<tr><td>George Munsey        </td><td>16                   </td></tr>\n",
       "\t<tr><td>Paul Stirling        </td><td>16                   </td></tr>\n",
       "\t<tr><td>Quinton de Kock      </td><td>16                   </td></tr>\n",
       "</tbody>\n",
       "</table>\n"
      ],
      "text/latex": [
       "\\begin{tabular}{r|ll}\n",
       " Batter & Total\\_Fours\\\\\n",
       "\\hline\n",
       "\t Suryakumar Yadav      & 26                   \\\\\n",
       "\t Virat Kohli           & 25                   \\\\\n",
       "\t Jos Buttler           & 24                   \\\\\n",
       "\t Max O'Dowd            & 22                   \\\\\n",
       "\t Najmul Hossain Shanto & 20                   \\\\\n",
       "\t Alex Hales            & 19                   \\\\\n",
       "\t Glenn Phillips        & 19                   \\\\\n",
       "\t Lorcan Tucker         & 19                   \\\\\n",
       "\t Kusal Mendis          & 17                   \\\\\n",
       "\t George Munsey         & 16                   \\\\\n",
       "\t Paul Stirling         & 16                   \\\\\n",
       "\t Quinton de Kock       & 16                   \\\\\n",
       "\\end{tabular}\n"
      ],
      "text/markdown": [
       "\n",
       "| Batter | Total_Fours |\n",
       "|---|---|\n",
       "| Suryakumar Yadav      | 26                    |\n",
       "| Virat Kohli           | 25                    |\n",
       "| Jos Buttler           | 24                    |\n",
       "| Max O'Dowd            | 22                    |\n",
       "| Najmul Hossain Shanto | 20                    |\n",
       "| Alex Hales            | 19                    |\n",
       "| Glenn Phillips        | 19                    |\n",
       "| Lorcan Tucker         | 19                    |\n",
       "| Kusal Mendis          | 17                    |\n",
       "| George Munsey         | 16                    |\n",
       "| Paul Stirling         | 16                    |\n",
       "| Quinton de Kock       | 16                    |\n",
       "\n"
      ],
      "text/plain": [
       "   Batter                Total_Fours\n",
       "1  Suryakumar Yadav      26         \n",
       "2  Virat Kohli           25         \n",
       "3  Jos Buttler           24         \n",
       "4  Max O'Dowd            22         \n",
       "5  Najmul Hossain Shanto 20         \n",
       "6  Alex Hales            19         \n",
       "7  Glenn Phillips        19         \n",
       "8  Lorcan Tucker         19         \n",
       "9  Kusal Mendis          17         \n",
       "10 George Munsey         16         \n",
       "11 Paul Stirling         16         \n",
       "12 Quinton de Kock       16         "
      ]
     },
     "metadata": {},
     "output_type": "display_data"
    }
   ],
   "source": [
    "most.fours = batt %>% group_by(fullName) %>% \n",
    "  summarise(Total_Fours = sum(fours)) %>% arrange(desc(Total_Fours)) %>% \n",
    "  rename(Batter = fullName) %>% slice(1:12)\n",
    "\n",
    "most.fours"
   ]
  },
  {
   "cell_type": "code",
   "execution_count": 8,
   "id": "a72c63e6",
   "metadata": {},
   "outputs": [
    {
     "data": {
      "image/png": "[encoded data removed]",
      "text/plain": [
       "plot without title"
      ]
     },
     "metadata": {},
     "output_type": "display_data"
    }
   ],
   "source": [
    "ggplot(most.fours, aes(reorder(Batter, Total_Fours), Total_Fours)) +\n",
    "  theme_classic() + coord_flip() +\n",
    "  geom_bar(stat = 'identity', fill = 'darkslategray4', col = 'black') +\n",
    "  geom_text(aes(label = Total_Fours, hjust = -0.25)) + \n",
    "  labs(title = 'Most Fours Hit by Batters in ICC T20 WC 2022' ,x = 'Player Name', \n",
    "       y = 'Fours Hit', caption = 'Data Source: Kaggle', tag = 'B3')"
   ]
  },
  {
   "cell_type": "markdown",
   "id": "09e572b8",
   "metadata": {},
   "source": [
    "#### Most Sixes Hit by Batters in ICC T20 WC 2022"
   ]
  },
  {
   "cell_type": "code",
   "execution_count": 9,
   "id": "ce1633cb",
   "metadata": {},
   "outputs": [
    {
     "data": {
      "text/html": [
       "<table>\n",
       "<thead><tr><th scope=col>Player</th><th scope=col>Total_Sixes</th></tr></thead>\n",
       "<tbody>\n",
       "\t<tr><td>Sikandar Raza   </td><td>11              </td></tr>\n",
       "\t<tr><td>Alex Hales      </td><td>10              </td></tr>\n",
       "\t<tr><td>Kusal Mendis    </td><td>10              </td></tr>\n",
       "\t<tr><td>Andy Balbirnie  </td><td> 9              </td></tr>\n",
       "\t<tr><td>Marcus Stoinis  </td><td> 9              </td></tr>\n",
       "\t<tr><td>Rilee Rossouw   </td><td> 9              </td></tr>\n",
       "\t<tr><td>Suryakumar Yadav</td><td> 9              </td></tr>\n",
       "\t<tr><td>Glenn Phillips  </td><td> 8              </td></tr>\n",
       "\t<tr><td>KL Rahul        </td><td> 8              </td></tr>\n",
       "\t<tr><td>Max O'Dowd      </td><td> 8              </td></tr>\n",
       "\t<tr><td>Pathum Nissanka </td><td> 8              </td></tr>\n",
       "\t<tr><td>Virat Kohli     </td><td> 8              </td></tr>\n",
       "\t<tr><td>Hardik Pandya   </td><td> 7              </td></tr>\n",
       "\t<tr><td>Jos Buttler     </td><td> 7              </td></tr>\n",
       "\t<tr><td>Glenn Maxwell   </td><td> 6              </td></tr>\n",
       "</tbody>\n",
       "</table>\n"
      ],
      "text/latex": [
       "\\begin{tabular}{r|ll}\n",
       " Player & Total\\_Sixes\\\\\n",
       "\\hline\n",
       "\t Sikandar Raza    & 11              \\\\\n",
       "\t Alex Hales       & 10              \\\\\n",
       "\t Kusal Mendis     & 10              \\\\\n",
       "\t Andy Balbirnie   &  9              \\\\\n",
       "\t Marcus Stoinis   &  9              \\\\\n",
       "\t Rilee Rossouw    &  9              \\\\\n",
       "\t Suryakumar Yadav &  9              \\\\\n",
       "\t Glenn Phillips   &  8              \\\\\n",
       "\t KL Rahul         &  8              \\\\\n",
       "\t Max O'Dowd       &  8              \\\\\n",
       "\t Pathum Nissanka  &  8              \\\\\n",
       "\t Virat Kohli      &  8              \\\\\n",
       "\t Hardik Pandya    &  7              \\\\\n",
       "\t Jos Buttler      &  7              \\\\\n",
       "\t Glenn Maxwell    &  6              \\\\\n",
       "\\end{tabular}\n"
      ],
      "text/markdown": [
       "\n",
       "| Player | Total_Sixes |\n",
       "|---|---|\n",
       "| Sikandar Raza    | 11               |\n",
       "| Alex Hales       | 10               |\n",
       "| Kusal Mendis     | 10               |\n",
       "| Andy Balbirnie   |  9               |\n",
       "| Marcus Stoinis   |  9               |\n",
       "| Rilee Rossouw    |  9               |\n",
       "| Suryakumar Yadav |  9               |\n",
       "| Glenn Phillips   |  8               |\n",
       "| KL Rahul         |  8               |\n",
       "| Max O'Dowd       |  8               |\n",
       "| Pathum Nissanka  |  8               |\n",
       "| Virat Kohli      |  8               |\n",
       "| Hardik Pandya    |  7               |\n",
       "| Jos Buttler      |  7               |\n",
       "| Glenn Maxwell    |  6               |\n",
       "\n"
      ],
      "text/plain": [
       "   Player           Total_Sixes\n",
       "1  Sikandar Raza    11         \n",
       "2  Alex Hales       10         \n",
       "3  Kusal Mendis     10         \n",
       "4  Andy Balbirnie    9         \n",
       "5  Marcus Stoinis    9         \n",
       "6  Rilee Rossouw     9         \n",
       "7  Suryakumar Yadav  9         \n",
       "8  Glenn Phillips    8         \n",
       "9  KL Rahul          8         \n",
       "10 Max O'Dowd        8         \n",
       "11 Pathum Nissanka   8         \n",
       "12 Virat Kohli       8         \n",
       "13 Hardik Pandya     7         \n",
       "14 Jos Buttler       7         \n",
       "15 Glenn Maxwell     6         "
      ]
     },
     "metadata": {},
     "output_type": "display_data"
    }
   ],
   "source": [
    "most.sixes = batt %>% group_by(fullName) %>% \n",
    "  summarise(Total_Sixes = sum(sixes)) %>% arrange(desc(Total_Sixes)) %>% \n",
    "  slice(1:15) %>% rename(Player = fullName)\n",
    "\n",
    "most.sixes"
   ]
  },
  {
   "cell_type": "code",
   "execution_count": 10,
   "id": "0ce55218",
   "metadata": {},
   "outputs": [
    {
     "data": {
      "image/png": "[encoded data removed]",
      "text/plain": [
       "plot without title"
      ]
     },
     "metadata": {},
     "output_type": "display_data"
    }
   ],
   "source": [
    "ggplot(most.sixes, aes(reorder(Player, Total_Sixes), Total_Sixes)) +\n",
    "  theme_classic() + coord_flip() +\n",
    "  geom_bar(stat = 'identity', fill = 'darkslategray4', col = 'black') +\n",
    "  geom_text(aes(label = Total_Sixes, hjust = -0.5)) + \n",
    "  labs(title = 'Most Sixes Hit by Batters in ICC T20 WC 2022' ,x = 'Player Name', \n",
    "       y = 'Sixes Hit', caption = 'Data Source: Kaggle', tag = 'B4')"
   ]
  },
  {
   "cell_type": "markdown",
   "id": "b46200ec",
   "metadata": {},
   "source": [
    "#### Most Player of Match Awards Received by Players in ICC T20 WC 2022"
   ]
  },
  {
   "cell_type": "code",
   "execution_count": 11,
   "id": "6b34ce98",
   "metadata": {},
   "outputs": [
    {
     "data": {
      "text/html": [
       "<table>\n",
       "<thead><tr><th scope=col>Player</th><th scope=col>Awards</th></tr></thead>\n",
       "<tbody>\n",
       "\t<tr><td>                </td><td>3               </td></tr>\n",
       "\t<tr><td>Sikandar Raza   </td><td>3               </td></tr>\n",
       "\t<tr><td>Bas de Leede    </td><td>2               </td></tr>\n",
       "\t<tr><td>Kusal Mendis    </td><td>2               </td></tr>\n",
       "\t<tr><td>Sam Curran      </td><td>2               </td></tr>\n",
       "\t<tr><td>Shadab Khan     </td><td>2               </td></tr>\n",
       "\t<tr><td>Suryakumar Yadav</td><td>2               </td></tr>\n",
       "\t<tr><td>Taskin Ahmed    </td><td>2               </td></tr>\n",
       "\t<tr><td>Virat Kohli     </td><td>2               </td></tr>\n",
       "</tbody>\n",
       "</table>\n"
      ],
      "text/latex": [
       "\\begin{tabular}{r|ll}\n",
       " Player & Awards\\\\\n",
       "\\hline\n",
       "\t                  & 3               \\\\\n",
       "\t Sikandar Raza    & 3               \\\\\n",
       "\t Bas de Leede     & 2               \\\\\n",
       "\t Kusal Mendis     & 2               \\\\\n",
       "\t Sam Curran       & 2               \\\\\n",
       "\t Shadab Khan      & 2               \\\\\n",
       "\t Suryakumar Yadav & 2               \\\\\n",
       "\t Taskin Ahmed     & 2               \\\\\n",
       "\t Virat Kohli      & 2               \\\\\n",
       "\\end{tabular}\n"
      ],
      "text/markdown": [
       "\n",
       "| Player | Awards |\n",
       "|---|---|\n",
       "|                  | 3                |\n",
       "| Sikandar Raza    | 3                |\n",
       "| Bas de Leede     | 2                |\n",
       "| Kusal Mendis     | 2                |\n",
       "| Sam Curran       | 2                |\n",
       "| Shadab Khan      | 2                |\n",
       "| Suryakumar Yadav | 2                |\n",
       "| Taskin Ahmed     | 2                |\n",
       "| Virat Kohli      | 2                |\n",
       "\n"
      ],
      "text/plain": [
       "  Player           Awards\n",
       "1                  3     \n",
       "2 Sikandar Raza    3     \n",
       "3 Bas de Leede     2     \n",
       "4 Kusal Mendis     2     \n",
       "5 Sam Curran       2     \n",
       "6 Shadab Khan      2     \n",
       "7 Suryakumar Yadav 2     \n",
       "8 Taskin Ahmed     2     \n",
       "9 Virat Kohli      2     "
      ]
     },
     "metadata": {},
     "output_type": "display_data"
    }
   ],
   "source": [
    "most.pom = t20.sum %>% group_by(pom) %>% \n",
    "  summarise(Awards = n()) %>% arrange(desc(Awards)) %>% \n",
    "  rename(Player = pom) %>% slice(1:9)\n",
    "\n",
    "most.pom"
   ]
  },
  {
   "cell_type": "code",
   "execution_count": 12,
   "id": "97b888b9",
   "metadata": {},
   "outputs": [
    {
     "data": {
      "image/png": "[encoded data removed]",
      "text/plain": [
       "plot without title"
      ]
     },
     "metadata": {},
     "output_type": "display_data"
    }
   ],
   "source": [
    "ggplot(most.pom, aes(reorder(Player, Awards), Awards)) +\n",
    "  theme_classic() + coord_flip() +\n",
    "  geom_bar(stat = 'identity', fill = 'darkslategray4', col = 'black') +\n",
    "  geom_text(aes(label = Awards, hjust = -0.5), size = 3.5) + \n",
    "labs(title = 'Most Player of Match Awards Received by Players in ICC T20 WC 2022' \n",
    "       ,x = 'Player Name',\n",
    "       y = 'Awards', caption = 'Data Source: Kaggle', tag = 'B5')"
   ]
  },
  {
   "cell_type": "markdown",
   "id": "a29c3505",
   "metadata": {},
   "source": [
    "#### Highest Strike Rate in ICC T20 WC 2022 (Min. 100 Runs Scored)"
   ]
  },
  {
   "cell_type": "code",
   "execution_count": 13,
   "id": "faf5adac",
   "metadata": {},
   "outputs": [
    {
     "data": {
      "text/html": [
       "<table>\n",
       "<thead><tr><th scope=col>Player</th><th scope=col>Runs.scored</th><th scope=col>SR</th></tr></thead>\n",
       "<tbody>\n",
       "\t<tr><td>Suryakumar Yadav</td><td>239             </td><td>189.68%         </td></tr>\n",
       "\t<tr><td>Rilee Rossouw   </td><td>141             </td><td>169.88%         </td></tr>\n",
       "\t<tr><td>Curtis Campher  </td><td>126             </td><td>163.64%         </td></tr>\n",
       "\t<tr><td>Glenn Maxwell   </td><td>118             </td><td>161.64%         </td></tr>\n",
       "\t<tr><td>Marcus Stoinis  </td><td>126             </td><td>161.54%         </td></tr>\n",
       "\t<tr><td>Quinton de Kock </td><td>124             </td><td>161.04%         </td></tr>\n",
       "\t<tr><td>Glenn Phillips  </td><td>201             </td><td>158.27%         </td></tr>\n",
       "\t<tr><td>Sikandar Raza   </td><td>219             </td><td>147.97%         </td></tr>\n",
       "\t<tr><td>Alex Hales      </td><td>212             </td><td>147.22%         </td></tr>\n",
       "\t<tr><td>Jos Buttler     </td><td>225             </td><td>144.23%         </td></tr>\n",
       "</tbody>\n",
       "</table>\n"
      ],
      "text/latex": [
       "\\begin{tabular}{r|lll}\n",
       " Player & Runs.scored & SR\\\\\n",
       "\\hline\n",
       "\t Suryakumar Yadav & 239              & 189.68\\%       \\\\\n",
       "\t Rilee Rossouw    & 141              & 169.88\\%       \\\\\n",
       "\t Curtis Campher   & 126              & 163.64\\%       \\\\\n",
       "\t Glenn Maxwell    & 118              & 161.64\\%       \\\\\n",
       "\t Marcus Stoinis   & 126              & 161.54\\%       \\\\\n",
       "\t Quinton de Kock  & 124              & 161.04\\%       \\\\\n",
       "\t Glenn Phillips   & 201              & 158.27\\%       \\\\\n",
       "\t Sikandar Raza    & 219              & 147.97\\%       \\\\\n",
       "\t Alex Hales       & 212              & 147.22\\%       \\\\\n",
       "\t Jos Buttler      & 225              & 144.23\\%       \\\\\n",
       "\\end{tabular}\n"
      ],
      "text/markdown": [
       "\n",
       "| Player | Runs.scored | SR |\n",
       "|---|---|---|\n",
       "| Suryakumar Yadav | 239              | 189.68%          |\n",
       "| Rilee Rossouw    | 141              | 169.88%          |\n",
       "| Curtis Campher   | 126              | 163.64%          |\n",
       "| Glenn Maxwell    | 118              | 161.64%          |\n",
       "| Marcus Stoinis   | 126              | 161.54%          |\n",
       "| Quinton de Kock  | 124              | 161.04%          |\n",
       "| Glenn Phillips   | 201              | 158.27%          |\n",
       "| Sikandar Raza    | 219              | 147.97%          |\n",
       "| Alex Hales       | 212              | 147.22%          |\n",
       "| Jos Buttler      | 225              | 144.23%          |\n",
       "\n"
      ],
      "text/plain": [
       "   Player           Runs.scored SR     \n",
       "1  Suryakumar Yadav 239         189.68%\n",
       "2  Rilee Rossouw    141         169.88%\n",
       "3  Curtis Campher   126         163.64%\n",
       "4  Glenn Maxwell    118         161.64%\n",
       "5  Marcus Stoinis   126         161.54%\n",
       "6  Quinton de Kock  124         161.04%\n",
       "7  Glenn Phillips   201         158.27%\n",
       "8  Sikandar Raza    219         147.97%\n",
       "9  Alex Hales       212         147.22%\n",
       "10 Jos Buttler      225         144.23%"
      ]
     },
     "metadata": {},
     "output_type": "display_data"
    }
   ],
   "source": [
    "max.sr = batt %>% group_by(fullName) %>% \n",
    "  summarise(Runs.scored = sum(runs),\n",
    "        SR = round(sum(runs)/sum(ballsFaced) * 100, digits = 2)) %>% \n",
    "  arrange(desc(SR)) %>% filter(Runs.scored >= 100) %>% slice(1:10) %>% \n",
    "  rename(Player = fullName)\n",
    "\n",
    "max.sr$SR = paste0(max.sr$SR, '%')\n",
    "\n",
    "max.sr\n",
    "\n",
    "options(warn = -1)"
   ]
  },
  {
   "cell_type": "code",
   "execution_count": 14,
   "id": "33a8038b",
   "metadata": {},
   "outputs": [
    {
     "data": {
      "image/png": "[encoded data removed]",
      "text/plain": [
       "plot without title"
      ]
     },
     "metadata": {},
     "output_type": "display_data"
    }
   ],
   "source": [
    "ggplot(max.sr, aes(reorder(Player, SR), SR)) + \n",
    "  theme_classic() + coord_flip() +\n",
    "  geom_bar(stat = 'identity', fill = 'darkslategray4', col = 'black') +\n",
    "  geom_text(aes(label = SR, hjust = -0.00001)) + \n",
    "  labs(title = 'Highest Strike Rate in ICC T20 WC 2022 (Min. 100 Runs Scored)' \n",
    "       ,x = 'Player Name', y = 'Strike Rate',\n",
    "        caption = 'Data Source: Kaggle', tag = 'B6')"
   ]
  },
  {
   "cell_type": "markdown",
   "id": "1abc6c36",
   "metadata": {},
   "source": [
    "#### Most Wickets Taken by Bowlers in ICC T20 WC 2022"
   ]
  },
  {
   "cell_type": "code",
   "execution_count": 15,
   "id": "4bb5010e",
   "metadata": {},
   "outputs": [
    {
     "data": {
      "text/html": [
       "<table>\n",
       "<thead><tr><th scope=col>Player</th><th scope=col>Wickets</th></tr></thead>\n",
       "<tbody>\n",
       "\t<tr><td>Wanindu Hasaranga de Silva</td><td>15                        </td></tr>\n",
       "\t<tr><td>Bas de Leede              </td><td>13                        </td></tr>\n",
       "\t<tr><td>Sam Curran                </td><td>13                        </td></tr>\n",
       "\t<tr><td>Blessing Muzarabani       </td><td>12                        </td></tr>\n",
       "\t<tr><td>Anrich Nortje             </td><td>11                        </td></tr>\n",
       "\t<tr><td>Josh Little               </td><td>11                        </td></tr>\n",
       "\t<tr><td>Paul van Meekeren         </td><td>11                        </td></tr>\n",
       "\t<tr><td>Shadab Khan               </td><td>11                        </td></tr>\n",
       "\t<tr><td>Shaheen Shah Afridi       </td><td>11                        </td></tr>\n",
       "\t<tr><td>Arshdeep Singh            </td><td>10                        </td></tr>\n",
       "</tbody>\n",
       "</table>\n"
      ],
      "text/latex": [
       "\\begin{tabular}{r|ll}\n",
       " Player & Wickets\\\\\n",
       "\\hline\n",
       "\t Wanindu Hasaranga de Silva & 15                        \\\\\n",
       "\t Bas de Leede               & 13                        \\\\\n",
       "\t Sam Curran                 & 13                        \\\\\n",
       "\t Blessing Muzarabani        & 12                        \\\\\n",
       "\t Anrich Nortje              & 11                        \\\\\n",
       "\t Josh Little                & 11                        \\\\\n",
       "\t Paul van Meekeren          & 11                        \\\\\n",
       "\t Shadab Khan                & 11                        \\\\\n",
       "\t Shaheen Shah Afridi        & 11                        \\\\\n",
       "\t Arshdeep Singh             & 10                        \\\\\n",
       "\\end{tabular}\n"
      ],
      "text/markdown": [
       "\n",
       "| Player | Wickets |\n",
       "|---|---|\n",
       "| Wanindu Hasaranga de Silva | 15                         |\n",
       "| Bas de Leede               | 13                         |\n",
       "| Sam Curran                 | 13                         |\n",
       "| Blessing Muzarabani        | 12                         |\n",
       "| Anrich Nortje              | 11                         |\n",
       "| Josh Little                | 11                         |\n",
       "| Paul van Meekeren          | 11                         |\n",
       "| Shadab Khan                | 11                         |\n",
       "| Shaheen Shah Afridi        | 11                         |\n",
       "| Arshdeep Singh             | 10                         |\n",
       "\n"
      ],
      "text/plain": [
       "   Player                     Wickets\n",
       "1  Wanindu Hasaranga de Silva 15     \n",
       "2  Bas de Leede               13     \n",
       "3  Sam Curran                 13     \n",
       "4  Blessing Muzarabani        12     \n",
       "5  Anrich Nortje              11     \n",
       "6  Josh Little                11     \n",
       "7  Paul van Meekeren          11     \n",
       "8  Shadab Khan                11     \n",
       "9  Shaheen Shah Afridi        11     \n",
       "10 Arshdeep Singh             10     "
      ]
     },
     "metadata": {},
     "output_type": "display_data"
    }
   ],
   "source": [
    "max.wk = bowl %>% group_by(fullName) %>% \n",
    "  summarise(WK = sum(wickets)) %>% arrange(desc(WK)) %>% \n",
    "  slice(1:10) %>% rename(Player = fullName) %>% rename(Wickets = WK)\n",
    "\n",
    "max.wk"
   ]
  },
  {
   "cell_type": "code",
   "execution_count": 16,
   "id": "4eace4f0",
   "metadata": {},
   "outputs": [
    {
     "data": {
      "image/png": "[encoded data removed]",
      "text/plain": [
       "plot without title"
      ]
     },
     "metadata": {},
     "output_type": "display_data"
    }
   ],
   "source": [
    "ggplot(max.wk, aes(reorder(Player, Wickets), Wickets)) +\n",
    "  theme_classic() + coord_flip() +\n",
    "  geom_bar(stat = 'identity', fill = 'darkslategray4', col = 'black') +\n",
    "  geom_text(aes(label = Wickets, hjust = -0.35)) + \n",
    "  labs(title = 'Most Wickets Taken by Bowlers in ICC T20 WC 2022' , \n",
    "       x = 'Bowler Name', y = 'Wickets Taken', \n",
    "       caption = 'Data Source: Kaggle', tag = 'B7')"
   ]
  },
  {
   "cell_type": "markdown",
   "id": "40265784",
   "metadata": {},
   "source": [
    "#### Lowest Economy Rate by Bowlers in ICC T20 WC 2022"
   ]
  },
  {
   "cell_type": "code",
   "execution_count": 17,
   "id": "06b77d19",
   "metadata": {},
   "outputs": [
    {
     "data": {
      "text/html": [
       "<table>\n",
       "<thead><tr><th scope=col>fullName</th><th scope=col>Economy</th><th scope=col>wks</th></tr></thead>\n",
       "<tbody>\n",
       "\t<tr><td>Anrich Nortje             </td><td>5.27                      </td><td>11                        </td></tr>\n",
       "\t<tr><td>Shaheen Shah Afridi       </td><td>6.09                      </td><td>11                        </td></tr>\n",
       "\t<tr><td>Mitchell Santner          </td><td>6.45                      </td><td> 9                        </td></tr>\n",
       "\t<tr><td>Shadab Khan               </td><td>6.46                      </td><td>11                        </td></tr>\n",
       "\t<tr><td>Paul van Meekeren         </td><td>6.53                      </td><td>11                        </td></tr>\n",
       "\t<tr><td>Sam Curran                </td><td>6.63                      </td><td>13                        </td></tr>\n",
       "\t<tr><td>Maheesh Theekshana        </td><td>6.67                      </td><td> 9                        </td></tr>\n",
       "\t<tr><td>Wanindu Hasaranga de Silva</td><td>6.77                      </td><td>15                        </td></tr>\n",
       "\t<tr><td>Sikandar Raza             </td><td>6.88                      </td><td>10                        </td></tr>\n",
       "\t<tr><td>Josh Little               </td><td>6.94                      </td><td>11                        </td></tr>\n",
       "\t<tr><td>Arshdeep Singh            </td><td>7.50                      </td><td>10                        </td></tr>\n",
       "\t<tr><td>Blessing Muzarabani       </td><td>7.57                      </td><td>12                        </td></tr>\n",
       "</tbody>\n",
       "</table>\n"
      ],
      "text/latex": [
       "\\begin{tabular}{r|lll}\n",
       " fullName & Economy & wks\\\\\n",
       "\\hline\n",
       "\t Anrich Nortje              & 5.27                       & 11                        \\\\\n",
       "\t Shaheen Shah Afridi        & 6.09                       & 11                        \\\\\n",
       "\t Mitchell Santner           & 6.45                       &  9                        \\\\\n",
       "\t Shadab Khan                & 6.46                       & 11                        \\\\\n",
       "\t Paul van Meekeren          & 6.53                       & 11                        \\\\\n",
       "\t Sam Curran                 & 6.63                       & 13                        \\\\\n",
       "\t Maheesh Theekshana         & 6.67                       &  9                        \\\\\n",
       "\t Wanindu Hasaranga de Silva & 6.77                       & 15                        \\\\\n",
       "\t Sikandar Raza              & 6.88                       & 10                        \\\\\n",
       "\t Josh Little                & 6.94                       & 11                        \\\\\n",
       "\t Arshdeep Singh             & 7.50                       & 10                        \\\\\n",
       "\t Blessing Muzarabani        & 7.57                       & 12                        \\\\\n",
       "\\end{tabular}\n"
      ],
      "text/markdown": [
       "\n",
       "| fullName | Economy | wks |\n",
       "|---|---|---|\n",
       "| Anrich Nortje              | 5.27                       | 11                         |\n",
       "| Shaheen Shah Afridi        | 6.09                       | 11                         |\n",
       "| Mitchell Santner           | 6.45                       |  9                         |\n",
       "| Shadab Khan                | 6.46                       | 11                         |\n",
       "| Paul van Meekeren          | 6.53                       | 11                         |\n",
       "| Sam Curran                 | 6.63                       | 13                         |\n",
       "| Maheesh Theekshana         | 6.67                       |  9                         |\n",
       "| Wanindu Hasaranga de Silva | 6.77                       | 15                         |\n",
       "| Sikandar Raza              | 6.88                       | 10                         |\n",
       "| Josh Little                | 6.94                       | 11                         |\n",
       "| Arshdeep Singh             | 7.50                       | 10                         |\n",
       "| Blessing Muzarabani        | 7.57                       | 12                         |\n",
       "\n"
      ],
      "text/plain": [
       "   fullName                   Economy wks\n",
       "1  Anrich Nortje              5.27    11 \n",
       "2  Shaheen Shah Afridi        6.09    11 \n",
       "3  Mitchell Santner           6.45     9 \n",
       "4  Shadab Khan                6.46    11 \n",
       "5  Paul van Meekeren          6.53    11 \n",
       "6  Sam Curran                 6.63    13 \n",
       "7  Maheesh Theekshana         6.67     9 \n",
       "8  Wanindu Hasaranga de Silva 6.77    15 \n",
       "9  Sikandar Raza              6.88    10 \n",
       "10 Josh Little                6.94    11 \n",
       "11 Arshdeep Singh             7.50    10 \n",
       "12 Blessing Muzarabani        7.57    12 "
      ]
     },
     "metadata": {},
     "output_type": "display_data"
    }
   ],
   "source": [
    "low.eco = bowl %>% group_by(fullName) %>% \n",
    "summarise(Economy = round(mean(economyRate),digits = 2), wks = sum(wickets)) %>% \n",
    "  filter(wks > 8) %>% arrange(Economy) %>% slice(1:12) \n",
    "\n",
    "low.eco"
   ]
  },
  {
   "cell_type": "code",
   "execution_count": 18,
   "id": "a7d63d2e",
   "metadata": {},
   "outputs": [
    {
     "data": {
      "image/png": "[encoded data removed]",
      "text/plain": [
       "plot without title"
      ]
     },
     "metadata": {},
     "output_type": "display_data"
    }
   ],
   "source": [
    "ggplot(low.eco, aes(reorder(fullName, -Economy), Economy)) +\n",
    "  theme_classic() + coord_flip() +\n",
    "  geom_bar(stat = 'identity', fill = 'darkslategray4', col = 'black') +\n",
    "  geom_text(aes(label = Economy, hjust = -0.05)) + \n",
    "  labs(title = 'Lowest Economy Rate by Bowlers in ICC T20 WC 2022' , \n",
    "       x = 'Bowler Name', y = 'Economy Rate', \n",
    "       caption = 'Data Source: Kaggle', tag = 'B8')"
   ]
  },
  {
   "cell_type": "markdown",
   "id": "4355b3e8",
   "metadata": {},
   "source": [
    "#### Best Bowling Average in ICC T20 WC 2022"
   ]
  },
  {
   "cell_type": "code",
   "execution_count": 19,
   "id": "21efedda",
   "metadata": {},
   "outputs": [
    {
     "data": {
      "text/html": [
       "<table>\n",
       "<thead><tr><th scope=col>fullName</th><th scope=col>Innings</th><th scope=col>Wickets</th><th scope=col>Average</th></tr></thead>\n",
       "<tbody>\n",
       "\t<tr><td>Anrich Nortje             </td><td>5                         </td><td>11                        </td><td> 8.55                     </td></tr>\n",
       "\t<tr><td>Sam Curran                </td><td>6                         </td><td>13                        </td><td>11.38                     </td></tr>\n",
       "\t<tr><td>Mark Wood                 </td><td>4                         </td><td> 9                        </td><td>12.00                     </td></tr>\n",
       "\t<tr><td>Bas de Leede              </td><td>7                         </td><td>13                        </td><td>13.00                     </td></tr>\n",
       "\t<tr><td>Wanindu Hasaranga de Silva</td><td>8                         </td><td>15                        </td><td>13.27                     </td></tr>\n",
       "\t<tr><td>Shaheen Shah Afridi       </td><td>7                         </td><td>11                        </td><td>14.09                     </td></tr>\n",
       "\t<tr><td>Mitchell Santner          </td><td>5                         </td><td> 9                        </td><td>14.33                     </td></tr>\n",
       "\t<tr><td>Shadab Khan               </td><td>7                         </td><td>11                        </td><td>15.00                     </td></tr>\n",
       "\t<tr><td>Mohammad Wasim            </td><td>6                         </td><td> 8                        </td><td>15.50                     </td></tr>\n",
       "\t<tr><td>Arshdeep Singh            </td><td>6                         </td><td>10                        </td><td>15.60                     </td></tr>\n",
       "</tbody>\n",
       "</table>\n"
      ],
      "text/latex": [
       "\\begin{tabular}{r|llll}\n",
       " fullName & Innings & Wickets & Average\\\\\n",
       "\\hline\n",
       "\t Anrich Nortje              & 5                          & 11                         &  8.55                     \\\\\n",
       "\t Sam Curran                 & 6                          & 13                         & 11.38                     \\\\\n",
       "\t Mark Wood                  & 4                          &  9                         & 12.00                     \\\\\n",
       "\t Bas de Leede               & 7                          & 13                         & 13.00                     \\\\\n",
       "\t Wanindu Hasaranga de Silva & 8                          & 15                         & 13.27                     \\\\\n",
       "\t Shaheen Shah Afridi        & 7                          & 11                         & 14.09                     \\\\\n",
       "\t Mitchell Santner           & 5                          &  9                         & 14.33                     \\\\\n",
       "\t Shadab Khan                & 7                          & 11                         & 15.00                     \\\\\n",
       "\t Mohammad Wasim             & 6                          &  8                         & 15.50                     \\\\\n",
       "\t Arshdeep Singh             & 6                          & 10                         & 15.60                     \\\\\n",
       "\\end{tabular}\n"
      ],
      "text/markdown": [
       "\n",
       "| fullName | Innings | Wickets | Average |\n",
       "|---|---|---|---|\n",
       "| Anrich Nortje              | 5                          | 11                         |  8.55                      |\n",
       "| Sam Curran                 | 6                          | 13                         | 11.38                      |\n",
       "| Mark Wood                  | 4                          |  9                         | 12.00                      |\n",
       "| Bas de Leede               | 7                          | 13                         | 13.00                      |\n",
       "| Wanindu Hasaranga de Silva | 8                          | 15                         | 13.27                      |\n",
       "| Shaheen Shah Afridi        | 7                          | 11                         | 14.09                      |\n",
       "| Mitchell Santner           | 5                          |  9                         | 14.33                      |\n",
       "| Shadab Khan                | 7                          | 11                         | 15.00                      |\n",
       "| Mohammad Wasim             | 6                          |  8                         | 15.50                      |\n",
       "| Arshdeep Singh             | 6                          | 10                         | 15.60                      |\n",
       "\n"
      ],
      "text/plain": [
       "   fullName                   Innings Wickets Average\n",
       "1  Anrich Nortje              5       11       8.55  \n",
       "2  Sam Curran                 6       13      11.38  \n",
       "3  Mark Wood                  4        9      12.00  \n",
       "4  Bas de Leede               7       13      13.00  \n",
       "5  Wanindu Hasaranga de Silva 8       15      13.27  \n",
       "6  Shaheen Shah Afridi        7       11      14.09  \n",
       "7  Mitchell Santner           5        9      14.33  \n",
       "8  Shadab Khan                7       11      15.00  \n",
       "9  Mohammad Wasim             6        8      15.50  \n",
       "10 Arshdeep Singh             6       10      15.60  "
      ]
     },
     "metadata": {},
     "output_type": "display_data"
    }
   ],
   "source": [
    "bowl.avg = bowl %>% group_by(fullName) %>% \n",
    "  summarise(Innings = n(), Wickets = sum(wickets),\n",
    "            Average = round(sum(conceded)/sum(wickets), digits = 2)) %>% \n",
    "  arrange(Average) %>% filter(Wickets >= 8) %>% slice(1:10)\n",
    "\n",
    "bowl.avg"
   ]
  },
  {
   "cell_type": "code",
   "execution_count": 20,
   "id": "fef141e9",
   "metadata": {},
   "outputs": [
    {
     "data": {
      "image/png": "[encoded data removed]",
      "text/plain": [
       "plot without title"
      ]
     },
     "metadata": {},
     "output_type": "display_data"
    }
   ],
   "source": [
    "ggplot(bowl.avg , aes(reorder(fullName, -Average), Average)) +\n",
    "  theme_classic() + coord_flip() +\n",
    "  geom_bar(stat = 'identity', fill = 'darkslategray4', col = 'black') +\n",
    "  geom_text(aes(label = Average, hjust = -0.0001)) + \n",
    "  labs(title = 'Best Bowling Average in ICC T20 WC 2022' , \n",
    "       x = 'Bowler Name', y = 'Economy Rate', \n",
    "       caption = 'Data Source: Kaggle', tag = 'B9')"
   ]
  },
  {
   "cell_type": "markdown",
   "id": "ca01e65d",
   "metadata": {},
   "source": [
    "#### Most Runs Scored in Powerplay (Overs 1 - 6) in ICC T20 WC 2022"
   ]
  },
  {
   "cell_type": "code",
   "execution_count": 21,
   "id": "4489a3be",
   "metadata": {},
   "outputs": [
    {
     "data": {
      "text/html": [
       "<table>\n",
       "<thead><tr><th scope=col>batsman1_name</th><th scope=col>Total.runs</th></tr></thead>\n",
       "<tbody>\n",
       "\t<tr><td>Alex Hales           </td><td>141                  </td></tr>\n",
       "\t<tr><td>Mohammad Rizwan      </td><td>120                  </td></tr>\n",
       "\t<tr><td>Jos Buttler          </td><td>119                  </td></tr>\n",
       "\t<tr><td>Finn Allen           </td><td> 97                  </td></tr>\n",
       "\t<tr><td>Litton Das           </td><td> 97                  </td></tr>\n",
       "\t<tr><td>Quinton de Kock      </td><td> 89                  </td></tr>\n",
       "\t<tr><td>Najmul Hossain Shanto</td><td> 82                  </td></tr>\n",
       "\t<tr><td>Rohit Sharma         </td><td> 73                  </td></tr>\n",
       "\t<tr><td>KL Rahul             </td><td> 70                  </td></tr>\n",
       "\t<tr><td>Rahmanullah Gurbaz   </td><td> 68                  </td></tr>\n",
       "</tbody>\n",
       "</table>\n"
      ],
      "text/latex": [
       "\\begin{tabular}{r|ll}\n",
       " batsman1\\_name & Total.runs\\\\\n",
       "\\hline\n",
       "\t Alex Hales            & 141                  \\\\\n",
       "\t Mohammad Rizwan       & 120                  \\\\\n",
       "\t Jos Buttler           & 119                  \\\\\n",
       "\t Finn Allen            &  97                  \\\\\n",
       "\t Litton Das            &  97                  \\\\\n",
       "\t Quinton de Kock       &  89                  \\\\\n",
       "\t Najmul Hossain Shanto &  82                  \\\\\n",
       "\t Rohit Sharma          &  73                  \\\\\n",
       "\t KL Rahul              &  70                  \\\\\n",
       "\t Rahmanullah Gurbaz    &  68                  \\\\\n",
       "\\end{tabular}\n"
      ],
      "text/markdown": [
       "\n",
       "| batsman1_name | Total.runs |\n",
       "|---|---|\n",
       "| Alex Hales            | 141                   |\n",
       "| Mohammad Rizwan       | 120                   |\n",
       "| Jos Buttler           | 119                   |\n",
       "| Finn Allen            |  97                   |\n",
       "| Litton Das            |  97                   |\n",
       "| Quinton de Kock       |  89                   |\n",
       "| Najmul Hossain Shanto |  82                   |\n",
       "| Rohit Sharma          |  73                   |\n",
       "| KL Rahul              |  70                   |\n",
       "| Rahmanullah Gurbaz    |  68                   |\n",
       "\n"
      ],
      "text/plain": [
       "   batsman1_name         Total.runs\n",
       "1  Alex Hales            141       \n",
       "2  Mohammad Rizwan       120       \n",
       "3  Jos Buttler           119       \n",
       "4  Finn Allen             97       \n",
       "5  Litton Das             97       \n",
       "6  Quinton de Kock        89       \n",
       "7  Najmul Hossain Shanto  82       \n",
       "8  Rohit Sharma           73       \n",
       "9  KL Rahul               70       \n",
       "10 Rahmanullah Gurbaz     68       "
      ]
     },
     "metadata": {},
     "output_type": "display_data"
    }
   ],
   "source": [
    "bat.pp.runs = details %>% group_by(batsman1_name) %>% \n",
    "  filter(over >= 1 & over <=6) %>% \n",
    "  filter(!current_innings %in% c('IRE','NED','SL','ZIM','SCOT')) %>% \n",
    "  summarise(Total.runs = sum(runs)) %>% \n",
    "  arrange(desc(Total.runs)) %>% slice(1:10)\n",
    "\n",
    "bat.pp.runs "
   ]
  },
  {
   "cell_type": "code",
   "execution_count": 22,
   "id": "192cb10c",
   "metadata": {},
   "outputs": [
    {
     "data": {
      "image/png": "[encoded data removed]",
      "text/plain": [
       "plot without title"
      ]
     },
     "metadata": {},
     "output_type": "display_data"
    }
   ],
   "source": [
    "ggplot(bat.pp.runs, aes(reorder(batsman1_name, Total.runs), Total.runs)) +\n",
    "  theme_classic() + coord_flip() +\n",
    "  geom_bar(stat = 'identity', fill = 'darkslategray4', col = 'black') +\n",
    "  geom_text(aes(label = Total.runs, hjust = -0.02)) +\n",
    "labs(title = 'Most Runs Scored in Powerplay (Overs 1 - 6) in ICC T20 WC 2022',\n",
    "       x = 'Player Name', y = 'Runs in Powerplay', \n",
    "       caption = 'Data Source: Kaggle', tag = 'B10')"
   ]
  },
  {
   "cell_type": "markdown",
   "id": "f3a94fba",
   "metadata": {},
   "source": [
    "#### Highest Strike Rate in Powerplay (Overs 1 - 6) for Min. 70 Runs Scored"
   ]
  },
  {
   "cell_type": "code",
   "execution_count": 23,
   "id": "a87b9a9d",
   "metadata": {},
   "outputs": [
    {
     "data": {
      "text/html": [
       "<table>\n",
       "<thead><tr><th scope=col>batsman1_name</th><th scope=col>Strike.rate</th><th scope=col>Total_runs</th></tr></thead>\n",
       "<tbody>\n",
       "\t<tr><td>Finn Allen           </td><td>186.54               </td><td> 97                  </td></tr>\n",
       "\t<tr><td>Quinton de Kock      </td><td>167.92               </td><td> 89                  </td></tr>\n",
       "\t<tr><td>Litton Das           </td><td>167.24               </td><td> 97                  </td></tr>\n",
       "\t<tr><td>Alex Hales           </td><td>158.43               </td><td>141                  </td></tr>\n",
       "\t<tr><td>Jos Buttler          </td><td>133.71               </td><td>119                  </td></tr>\n",
       "\t<tr><td>Mohammad Rizwan      </td><td>113.21               </td><td>120                  </td></tr>\n",
       "\t<tr><td>Najmul Hossain Shanto</td><td>100.00               </td><td> 82                  </td></tr>\n",
       "\t<tr><td>Rohit Sharma         </td><td> 94.81               </td><td> 73                  </td></tr>\n",
       "\t<tr><td>KL Rahul             </td><td> 90.91               </td><td> 70                  </td></tr>\n",
       "</tbody>\n",
       "</table>\n"
      ],
      "text/latex": [
       "\\begin{tabular}{r|lll}\n",
       " batsman1\\_name & Strike.rate & Total\\_runs\\\\\n",
       "\\hline\n",
       "\t Finn Allen            & 186.54                &  97                  \\\\\n",
       "\t Quinton de Kock       & 167.92                &  89                  \\\\\n",
       "\t Litton Das            & 167.24                &  97                  \\\\\n",
       "\t Alex Hales            & 158.43                & 141                  \\\\\n",
       "\t Jos Buttler           & 133.71                & 119                  \\\\\n",
       "\t Mohammad Rizwan       & 113.21                & 120                  \\\\\n",
       "\t Najmul Hossain Shanto & 100.00                &  82                  \\\\\n",
       "\t Rohit Sharma          &  94.81                &  73                  \\\\\n",
       "\t KL Rahul              &  90.91                &  70                  \\\\\n",
       "\\end{tabular}\n"
      ],
      "text/markdown": [
       "\n",
       "| batsman1_name | Strike.rate | Total_runs |\n",
       "|---|---|---|\n",
       "| Finn Allen            | 186.54                |  97                   |\n",
       "| Quinton de Kock       | 167.92                |  89                   |\n",
       "| Litton Das            | 167.24                |  97                   |\n",
       "| Alex Hales            | 158.43                | 141                   |\n",
       "| Jos Buttler           | 133.71                | 119                   |\n",
       "| Mohammad Rizwan       | 113.21                | 120                   |\n",
       "| Najmul Hossain Shanto | 100.00                |  82                   |\n",
       "| Rohit Sharma          |  94.81                |  73                   |\n",
       "| KL Rahul              |  90.91                |  70                   |\n",
       "\n"
      ],
      "text/plain": [
       "  batsman1_name         Strike.rate Total_runs\n",
       "1 Finn Allen            186.54       97       \n",
       "2 Quinton de Kock       167.92       89       \n",
       "3 Litton Das            167.24       97       \n",
       "4 Alex Hales            158.43      141       \n",
       "5 Jos Buttler           133.71      119       \n",
       "6 Mohammad Rizwan       113.21      120       \n",
       "7 Najmul Hossain Shanto 100.00       82       \n",
       "8 Rohit Sharma           94.81       73       \n",
       "9 KL Rahul               90.91       70       "
      ]
     },
     "metadata": {},
     "output_type": "display_data"
    }
   ],
   "source": [
    "bat.pp.str = details %>% group_by(batsman1_name) %>% \n",
    "  filter(over >= 1 & over <= 6) %>% \n",
    "  filter(!current_innings %in% c('IRE','NED','SL','ZIM','SCOT')) %>% \n",
    "  summarise(Strike.rate = round(sum(runs)/n() * 100, digits = 2), \n",
    "            Total_runs = sum(runs)) %>% \n",
    "  arrange(desc(Strike.rate)) %>% filter(Total_runs >= 70)\n",
    "\n",
    "\n",
    "bat.pp.str"
   ]
  },
  {
   "cell_type": "code",
   "execution_count": 24,
   "id": "b1f7680c",
   "metadata": {},
   "outputs": [
    {
     "data": {
      "image/png": "[encoded data removed]",
      "text/plain": [
       "plot without title"
      ]
     },
     "metadata": {},
     "output_type": "display_data"
    }
   ],
   "source": [
    "ggplot(bat.pp.str, aes(reorder(batsman1_name, Strike.rate), Strike.rate)) +\n",
    "  theme_classic() + coord_flip() +\n",
    "  geom_bar(stat = 'identity', fill = 'darkslategray4', col = 'black') +\n",
    "  geom_text(aes(label = Strike.rate, hjust = -0.001)) +\n",
    "labs(title = \n",
    "'Highest Strike Rate in Powerplay (Overs 1 - 6) for Min. 70 Runs Scored',\n",
    "       x = 'Player Name', y = 'Strike Rate in Powerplay', \n",
    "       caption = 'Data Source: Kaggle', tag = 'B11')"
   ]
  },
  {
   "cell_type": "markdown",
   "id": "86a8e1d1",
   "metadata": {},
   "source": [
    "#### Most Runs Scored in Death Overs (Overs 16 - 20) in ICC T20 WC 2022"
   ]
  },
  {
   "cell_type": "code",
   "execution_count": 25,
   "id": "ca2746d6",
   "metadata": {},
   "outputs": [
    {
     "data": {
      "text/html": [
       "<table>\n",
       "<thead><tr><th scope=col>batsman1_name</th><th scope=col>Total.runs</th></tr></thead>\n",
       "<tbody>\n",
       "\t<tr><td>Virat Kohli     </td><td>110             </td></tr>\n",
       "\t<tr><td>Suryakumar Yadav</td><td>104             </td></tr>\n",
       "\t<tr><td>Hardik Pandya   </td><td> 86             </td></tr>\n",
       "\t<tr><td>Curtis Campher  </td><td> 54             </td></tr>\n",
       "\t<tr><td>Glenn Phillips  </td><td> 54             </td></tr>\n",
       "\t<tr><td>Rashid Khan     </td><td> 54             </td></tr>\n",
       "\t<tr><td>Ben Stokes      </td><td> 53             </td></tr>\n",
       "\t<tr><td>James Neesham   </td><td> 53             </td></tr>\n",
       "\t<tr><td>Shan Masood     </td><td> 53             </td></tr>\n",
       "\t<tr><td>Shadab Khan     </td><td> 49             </td></tr>\n",
       "</tbody>\n",
       "</table>\n"
      ],
      "text/latex": [
       "\\begin{tabular}{r|ll}\n",
       " batsman1\\_name & Total.runs\\\\\n",
       "\\hline\n",
       "\t Virat Kohli      & 110             \\\\\n",
       "\t Suryakumar Yadav & 104             \\\\\n",
       "\t Hardik Pandya    &  86             \\\\\n",
       "\t Curtis Campher   &  54             \\\\\n",
       "\t Glenn Phillips   &  54             \\\\\n",
       "\t Rashid Khan      &  54             \\\\\n",
       "\t Ben Stokes       &  53             \\\\\n",
       "\t James Neesham    &  53             \\\\\n",
       "\t Shan Masood      &  53             \\\\\n",
       "\t Shadab Khan      &  49             \\\\\n",
       "\\end{tabular}\n"
      ],
      "text/markdown": [
       "\n",
       "| batsman1_name | Total.runs |\n",
       "|---|---|\n",
       "| Virat Kohli      | 110              |\n",
       "| Suryakumar Yadav | 104              |\n",
       "| Hardik Pandya    |  86              |\n",
       "| Curtis Campher   |  54              |\n",
       "| Glenn Phillips   |  54              |\n",
       "| Rashid Khan      |  54              |\n",
       "| Ben Stokes       |  53              |\n",
       "| James Neesham    |  53              |\n",
       "| Shan Masood      |  53              |\n",
       "| Shadab Khan      |  49              |\n",
       "\n"
      ],
      "text/plain": [
       "   batsman1_name    Total.runs\n",
       "1  Virat Kohli      110       \n",
       "2  Suryakumar Yadav 104       \n",
       "3  Hardik Pandya     86       \n",
       "4  Curtis Campher    54       \n",
       "5  Glenn Phillips    54       \n",
       "6  Rashid Khan       54       \n",
       "7  Ben Stokes        53       \n",
       "8  James Neesham     53       \n",
       "9  Shan Masood       53       \n",
       "10 Shadab Khan       49       "
      ]
     },
     "metadata": {},
     "output_type": "display_data"
    }
   ],
   "source": [
    "do.runs = details %>% group_by(batsman1_name) %>% \n",
    "  filter(over >= 16 & over <= 20) %>% \n",
    "  summarise(Total.runs = sum(runs)) %>% \n",
    "  arrange(desc(Total.runs)) %>% slice(1:10)\n",
    "\n",
    "do.runs"
   ]
  },
  {
   "cell_type": "code",
   "execution_count": 26,
   "id": "86eccae2",
   "metadata": {},
   "outputs": [
    {
     "data": {
      "image/png": "[encoded data removed]",
      "text/plain": [
       "plot without title"
      ]
     },
     "metadata": {},
     "output_type": "display_data"
    }
   ],
   "source": [
    "ggplot(do.runs, aes(reorder(batsman1_name, Total.runs), Total.runs)) +\n",
    "  theme_classic() + coord_flip() +\n",
    "  geom_bar(stat = 'identity', fill = 'darkslategray4', col = 'black') +\n",
    "  geom_text(aes(label = Total.runs, hjust = -0.01)) +\n",
    "  labs(title= 'Most Runs Scored in Death Overs (Overs 16 - 20) in ICC T20 WC 2022',\n",
    "       x = 'Player Name', y = 'Runs in Death Overs', \n",
    "       caption = 'Data Source: Kaggle', tag = 'B12')"
   ]
  },
  {
   "cell_type": "markdown",
   "id": "31c4366c",
   "metadata": {},
   "source": [
    "#### Highest Strike Rate in Death Overs (Overs 16 - 20) for min. 50 Runs Scored"
   ]
  },
  {
   "cell_type": "code",
   "execution_count": 27,
   "id": "40189e16",
   "metadata": {},
   "outputs": [
    {
     "data": {
      "text/html": [
       "<table>\n",
       "<thead><tr><th scope=col>batsman1_name</th><th scope=col>Runs</th><th scope=col>Strike_rate</th></tr></thead>\n",
       "<tbody>\n",
       "\t<tr><td>Suryakumar Yadav</td><td>104             </td><td>236.36%         </td></tr>\n",
       "\t<tr><td>Curtis Campher  </td><td> 54             </td><td>216%            </td></tr>\n",
       "\t<tr><td>Virat Kohli     </td><td>110             </td><td>211.54%         </td></tr>\n",
       "\t<tr><td>Rashid Khan     </td><td> 54             </td><td>186.21%         </td></tr>\n",
       "\t<tr><td>Glenn Phillips  </td><td> 54             </td><td>180%            </td></tr>\n",
       "\t<tr><td>Hardik Pandya   </td><td> 86             </td><td>179.17%         </td></tr>\n",
       "\t<tr><td>James Neesham   </td><td> 53             </td><td>143.24%         </td></tr>\n",
       "\t<tr><td>Shan Masood     </td><td> 53             </td><td>143.24%         </td></tr>\n",
       "\t<tr><td>Ben Stokes      </td><td> 53             </td><td>139.47%         </td></tr>\n",
       "</tbody>\n",
       "</table>\n"
      ],
      "text/latex": [
       "\\begin{tabular}{r|lll}\n",
       " batsman1\\_name & Runs & Strike\\_rate\\\\\n",
       "\\hline\n",
       "\t Suryakumar Yadav & 104              & 236.36\\%       \\\\\n",
       "\t Curtis Campher   &  54              & 216\\%          \\\\\n",
       "\t Virat Kohli      & 110              & 211.54\\%       \\\\\n",
       "\t Rashid Khan      &  54              & 186.21\\%       \\\\\n",
       "\t Glenn Phillips   &  54              & 180\\%          \\\\\n",
       "\t Hardik Pandya    &  86              & 179.17\\%       \\\\\n",
       "\t James Neesham    &  53              & 143.24\\%       \\\\\n",
       "\t Shan Masood      &  53              & 143.24\\%       \\\\\n",
       "\t Ben Stokes       &  53              & 139.47\\%       \\\\\n",
       "\\end{tabular}\n"
      ],
      "text/markdown": [
       "\n",
       "| batsman1_name | Runs | Strike_rate |\n",
       "|---|---|---|\n",
       "| Suryakumar Yadav | 104              | 236.36%          |\n",
       "| Curtis Campher   |  54              | 216%             |\n",
       "| Virat Kohli      | 110              | 211.54%          |\n",
       "| Rashid Khan      |  54              | 186.21%          |\n",
       "| Glenn Phillips   |  54              | 180%             |\n",
       "| Hardik Pandya    |  86              | 179.17%          |\n",
       "| James Neesham    |  53              | 143.24%          |\n",
       "| Shan Masood      |  53              | 143.24%          |\n",
       "| Ben Stokes       |  53              | 139.47%          |\n",
       "\n"
      ],
      "text/plain": [
       "  batsman1_name    Runs Strike_rate\n",
       "1 Suryakumar Yadav 104  236.36%    \n",
       "2 Curtis Campher    54  216%       \n",
       "3 Virat Kohli      110  211.54%    \n",
       "4 Rashid Khan       54  186.21%    \n",
       "5 Glenn Phillips    54  180%       \n",
       "6 Hardik Pandya     86  179.17%    \n",
       "7 James Neesham     53  143.24%    \n",
       "8 Shan Masood       53  143.24%    \n",
       "9 Ben Stokes        53  139.47%    "
      ]
     },
     "metadata": {},
     "output_type": "display_data"
    }
   ],
   "source": [
    "last.sr = details %>% group_by(batsman1_name) %>% \n",
    "  filter(over >= 16 & over <= 20) %>%\n",
    "  summarise(Runs = sum(runs), \n",
    "            Strike_rate= round(sum(runs)/ n() * 100, digits = 2)) %>% \n",
    "  arrange(desc(Strike_rate)) %>% filter(Runs >= 50)\n",
    "\n",
    "last.sr$Strike_rate = paste0(last.sr$Strike_rate , '%')  \n",
    "\n",
    "last.sr"
   ]
  },
  {
   "cell_type": "code",
   "execution_count": 28,
   "id": "85dae99e",
   "metadata": {},
   "outputs": [
    {
     "data": {
      "image/png": "[encoded data removed]",
      "text/plain": [
       "plot without title"
      ]
     },
     "metadata": {},
     "output_type": "display_data"
    }
   ],
   "source": [
    "ggplot(last.sr, aes(reorder(batsman1_name, Strike_rate), Strike_rate)) +\n",
    "  theme_classic() + coord_flip() +\n",
    "  geom_bar(stat = 'identity', fill = 'darkslategray4', col = 'black') +\n",
    "  geom_text(aes(label = Strike_rate, hjust = -0.001)) +\n",
    "labs(title = \n",
    "    'Highest Strike Rate in Death Overs (Overs 16 - 20) for min. 50 Runs Scored',\n",
    "       x = 'Player Name', y = 'Strike Rate in Death Overs', \n",
    "       caption = 'Data Source: Kaggle', tag = 'B13')"
   ]
  },
  {
   "cell_type": "markdown",
   "id": "aef47fee",
   "metadata": {},
   "source": [
    "#### Most Wickets Taken in Powerplay Overs (1 - 6) in ICC T20 WC"
   ]
  },
  {
   "cell_type": "code",
   "execution_count": 29,
   "id": "436ea496",
   "metadata": {},
   "outputs": [],
   "source": [
    "details[details == 2 | details == 3 | details == 4 | details == 5] = '1'  "
   ]
  },
  {
   "cell_type": "code",
   "execution_count": 30,
   "id": "5a1746dc",
   "metadata": {},
   "outputs": [
    {
     "ename": "ERROR",
     "evalue": "Error in sum(bowler1_overs): invalid 'type' (character) of argument\n",
     "output_type": "error",
     "traceback": [
      "Error in sum(bowler1_overs): invalid 'type' (character) of argument\nTraceback:\n",
      "1. details %>% group_by(bowler1_name) %>% filter(over >= 1 & over <= \n .     6) %>% filter(bowler1_wkts == 1) %>% summarise(Wickets = sum(bowler1_wkts), \n .     PP.overs = sum(bowler1_overs)) %>% arrange(desc(Wickets), \n .     PP.overs) %>% slice(1:10)",
      "2. withVisible(eval(quote(`_fseq`(`_lhs`)), env, env))",
      "3. eval(quote(`_fseq`(`_lhs`)), env, env)",
      "4. eval(quote(`_fseq`(`_lhs`)), env, env)",
      "5. `_fseq`(`_lhs`)",
      "6. freduce(value, `_function_list`)",
      "7. function_list[[i]](value)",
      "8. summarise(., Wickets = sum(bowler1_wkts), PP.overs = sum(bowler1_overs))",
      "9. summarise.tbl_df(., Wickets = sum(bowler1_wkts), PP.overs = sum(bowler1_overs))",
      "10. summarise_impl(.data, dots, environment(), caller_env())"
     ]
    }
   ],
   "source": [
    "pp.wk = details %>% group_by(bowler1_name) %>% \n",
    "  filter(over >= 1 & over <= 6) %>% filter(bowler1_wkts == 1) %>% \n",
    "  summarise(Wickets = sum(bowler1_wkts), PP.overs = sum(bowler1_overs))%>%\n",
    "  arrange(desc(Wickets),PP.overs) %>% slice(1:10)\n",
    "\n",
    "pp.wk"
   ]
  },
  {
   "cell_type": "code",
   "execution_count": 32,
   "id": "8eaf3fab",
   "metadata": {},
   "outputs": [],
   "source": [
    "details$bowler1_overs = as.numeric(details$bowler1_overs)"
   ]
  },
  {
   "cell_type": "code",
   "execution_count": 33,
   "id": "b7a425c8",
   "metadata": {},
   "outputs": [
    {
     "data": {
      "text/html": [
       "<table>\n",
       "<thead><tr><th scope=col>bowler1_name</th><th scope=col>Wickets</th><th scope=col>PP.overs</th></tr></thead>\n",
       "<tbody>\n",
       "\t<tr><td>Bas de Leede              </td><td>13                        </td><td>22.7                      </td></tr>\n",
       "\t<tr><td>Blessing Muzarabani       </td><td>12                        </td><td>17.3                      </td></tr>\n",
       "\t<tr><td>Sam Curran                </td><td>12                        </td><td>24.5                      </td></tr>\n",
       "\t<tr><td>Wanindu Hasaranga de Silva</td><td>12                        </td><td>27.8                      </td></tr>\n",
       "\t<tr><td>Shaheen Shah Afridi       </td><td>11                        </td><td>19.9                      </td></tr>\n",
       "\t<tr><td>Josh Little               </td><td>11                        </td><td>25.2                      </td></tr>\n",
       "\t<tr><td>Arshdeep Singh            </td><td>10                        </td><td>10.4                      </td></tr>\n",
       "\t<tr><td>Sikandar Raza             </td><td>10                        </td><td>19.7                      </td></tr>\n",
       "\t<tr><td>Paul van Meekeren         </td><td> 9                        </td><td>10.6                      </td></tr>\n",
       "\t<tr><td>Maheesh Theekshana        </td><td> 9                        </td><td>14.0                      </td></tr>\n",
       "</tbody>\n",
       "</table>\n"
      ],
      "text/latex": [
       "\\begin{tabular}{r|lll}\n",
       " bowler1\\_name & Wickets & PP.overs\\\\\n",
       "\\hline\n",
       "\t Bas de Leede               & 13                         & 22.7                      \\\\\n",
       "\t Blessing Muzarabani        & 12                         & 17.3                      \\\\\n",
       "\t Sam Curran                 & 12                         & 24.5                      \\\\\n",
       "\t Wanindu Hasaranga de Silva & 12                         & 27.8                      \\\\\n",
       "\t Shaheen Shah Afridi        & 11                         & 19.9                      \\\\\n",
       "\t Josh Little                & 11                         & 25.2                      \\\\\n",
       "\t Arshdeep Singh             & 10                         & 10.4                      \\\\\n",
       "\t Sikandar Raza              & 10                         & 19.7                      \\\\\n",
       "\t Paul van Meekeren          &  9                         & 10.6                      \\\\\n",
       "\t Maheesh Theekshana         &  9                         & 14.0                      \\\\\n",
       "\\end{tabular}\n"
      ],
      "text/markdown": [
       "\n",
       "| bowler1_name | Wickets | PP.overs |\n",
       "|---|---|---|\n",
       "| Bas de Leede               | 13                         | 22.7                       |\n",
       "| Blessing Muzarabani        | 12                         | 17.3                       |\n",
       "| Sam Curran                 | 12                         | 24.5                       |\n",
       "| Wanindu Hasaranga de Silva | 12                         | 27.8                       |\n",
       "| Shaheen Shah Afridi        | 11                         | 19.9                       |\n",
       "| Josh Little                | 11                         | 25.2                       |\n",
       "| Arshdeep Singh             | 10                         | 10.4                       |\n",
       "| Sikandar Raza              | 10                         | 19.7                       |\n",
       "| Paul van Meekeren          |  9                         | 10.6                       |\n",
       "| Maheesh Theekshana         |  9                         | 14.0                       |\n",
       "\n"
      ],
      "text/plain": [
       "   bowler1_name               Wickets PP.overs\n",
       "1  Bas de Leede               13      22.7    \n",
       "2  Blessing Muzarabani        12      17.3    \n",
       "3  Sam Curran                 12      24.5    \n",
       "4  Wanindu Hasaranga de Silva 12      27.8    \n",
       "5  Shaheen Shah Afridi        11      19.9    \n",
       "6  Josh Little                11      25.2    \n",
       "7  Arshdeep Singh             10      10.4    \n",
       "8  Sikandar Raza              10      19.7    \n",
       "9  Paul van Meekeren           9      10.6    \n",
       "10 Maheesh Theekshana          9      14.0    "
      ]
     },
     "metadata": {},
     "output_type": "display_data"
    }
   ],
   "source": [
    "pp.wk = details %>% group_by(bowler1_name) %>% \n",
    "  filter(over >= 1 & over <= 6) %>% filter(bowler1_wkts == 1) %>% \n",
    "  summarise(Wickets = sum(bowler1_wkts), PP.overs = sum(bowler1_overs))%>%\n",
    "  arrange(desc(Wickets),PP.overs) %>% slice(1:10)\n",
    "\n",
    "pp.wk"
   ]
  },
  {
   "cell_type": "code",
   "execution_count": null,
   "id": "6fd4ac95",
   "metadata": {},
   "outputs": [],
   "source": [
    "str(details)"
   ]
  },
  {
   "cell_type": "code",
   "execution_count": 34,
   "id": "f0ed7deb",
   "metadata": {},
   "outputs": [
    {
     "data": {
      "image/png": "[encoded data removed]",
      "text/plain": [
       "plot without title"
      ]
     },
     "metadata": {},
     "output_type": "display_data"
    }
   ],
   "source": [
    "ggplot(pp.wk, aes(reorder(bowler1_name, Wickets), Wickets)) + \n",
    "  theme_classic() + coord_flip() +\n",
    "  geom_bar(stat = 'identity', fill = 'darkslategray4', col = 'black') +\n",
    "  geom_text(aes(label = Wickets, hjust = -0.35)) +\n",
    "  labs(title = 'Most Wickets Taken in Powerplay Overs (1 - 6) in ICC T20 WC',\n",
    "       x = 'Player Name', y = 'Wickets in Powerplay', \n",
    "       caption = 'Data Source: Kaggle', tag = 'B14')"
   ]
  },
  {
   "cell_type": "markdown",
   "id": "bf670257",
   "metadata": {},
   "source": [
    "#### Most Wickets Taken in Death Overs (16 - 20) in ICC T20 WC"
   ]
  },
  {
   "cell_type": "code",
   "execution_count": 35,
   "id": "6347a491",
   "metadata": {},
   "outputs": [
    {
     "data": {
      "text/html": [
       "<table>\n",
       "<thead><tr><th scope=col>bowler1_name</th><th scope=col>Wickets</th><th scope=col>death.overs</th></tr></thead>\n",
       "<tbody>\n",
       "\t<tr><td>Sam Curran         </td><td>9                  </td><td>21.2               </td></tr>\n",
       "\t<tr><td>Mark Wood          </td><td>6                  </td><td>13.7               </td></tr>\n",
       "\t<tr><td>Chris Jordan       </td><td>4                  </td><td> 7.5               </td></tr>\n",
       "\t<tr><td>Anrich Nortje      </td><td>4                  </td><td>10.9               </td></tr>\n",
       "\t<tr><td>Mohammad Wasim     </td><td>4                  </td><td>11.0               </td></tr>\n",
       "\t<tr><td>Shaheen Shah Afridi</td><td>4                  </td><td>11.0               </td></tr>\n",
       "\t<tr><td>Liam Livingstone   </td><td>3                  </td><td> 5.2               </td></tr>\n",
       "\t<tr><td>Shakib Al Hasan    </td><td>3                  </td><td> 6.9               </td></tr>\n",
       "\t<tr><td>Trent Boult        </td><td>3                  </td><td> 7.4               </td></tr>\n",
       "\t<tr><td>Hasan Mahmud       </td><td>3                  </td><td> 8.6               </td></tr>\n",
       "</tbody>\n",
       "</table>\n"
      ],
      "text/latex": [
       "\\begin{tabular}{r|lll}\n",
       " bowler1\\_name & Wickets & death.overs\\\\\n",
       "\\hline\n",
       "\t Sam Curran          & 9                   & 21.2               \\\\\n",
       "\t Mark Wood           & 6                   & 13.7               \\\\\n",
       "\t Chris Jordan        & 4                   &  7.5               \\\\\n",
       "\t Anrich Nortje       & 4                   & 10.9               \\\\\n",
       "\t Mohammad Wasim      & 4                   & 11.0               \\\\\n",
       "\t Shaheen Shah Afridi & 4                   & 11.0               \\\\\n",
       "\t Liam Livingstone    & 3                   &  5.2               \\\\\n",
       "\t Shakib Al Hasan     & 3                   &  6.9               \\\\\n",
       "\t Trent Boult         & 3                   &  7.4               \\\\\n",
       "\t Hasan Mahmud        & 3                   &  8.6               \\\\\n",
       "\\end{tabular}\n"
      ],
      "text/markdown": [
       "\n",
       "| bowler1_name | Wickets | death.overs |\n",
       "|---|---|---|\n",
       "| Sam Curran          | 9                   | 21.2                |\n",
       "| Mark Wood           | 6                   | 13.7                |\n",
       "| Chris Jordan        | 4                   |  7.5                |\n",
       "| Anrich Nortje       | 4                   | 10.9                |\n",
       "| Mohammad Wasim      | 4                   | 11.0                |\n",
       "| Shaheen Shah Afridi | 4                   | 11.0                |\n",
       "| Liam Livingstone    | 3                   |  5.2                |\n",
       "| Shakib Al Hasan     | 3                   |  6.9                |\n",
       "| Trent Boult         | 3                   |  7.4                |\n",
       "| Hasan Mahmud        | 3                   |  8.6                |\n",
       "\n"
      ],
      "text/plain": [
       "   bowler1_name        Wickets death.overs\n",
       "1  Sam Curran          9       21.2       \n",
       "2  Mark Wood           6       13.7       \n",
       "3  Chris Jordan        4        7.5       \n",
       "4  Anrich Nortje       4       10.9       \n",
       "5  Mohammad Wasim      4       11.0       \n",
       "6  Shaheen Shah Afridi 4       11.0       \n",
       "7  Liam Livingstone    3        5.2       \n",
       "8  Shakib Al Hasan     3        6.9       \n",
       "9  Trent Boult         3        7.4       \n",
       "10 Hasan Mahmud        3        8.6       "
      ]
     },
     "metadata": {},
     "output_type": "display_data"
    }
   ],
   "source": [
    "last.wk = details %>% group_by(bowler1_name) %>% \n",
    "  filter(over >= 16 & over <= 20) %>% filter(bowler1_wkts == 1) %>% \n",
    "  filter(!away_team %in% c('IRE','NED','SL','ZIM','SCOT')) %>% \n",
    "  summarise(Wickets = sum(bowler1_wkts), \n",
    "            death.overs = sum(bowler1_overs))%>%\n",
    "  arrange(desc(Wickets), death.overs) %>% slice(1:10)\n",
    "\n",
    "last.wk"
   ]
  },
  {
   "cell_type": "code",
   "execution_count": 36,
   "id": "f7c08ed5",
   "metadata": {},
   "outputs": [
    {
     "data": {
      "image/png": "[encoded data removed]",
      "text/plain": [
       "plot without title"
      ]
     },
     "metadata": {},
     "output_type": "display_data"
    }
   ],
   "source": [
    "ggplot(last.wk, aes(reorder(bowler1_name, Wickets), Wickets)) + \n",
    "  theme_classic() + coord_flip() +\n",
    "  geom_bar(stat = 'identity', fill = 'darkslategray4', col = 'black') +\n",
    "  geom_text(aes(label = Wickets, hjust = -0.35)) +\n",
    "  labs(title = 'Most Wickets Taken in Death Overs (16 - 20) in ICC T20 WC',\n",
    "       x = 'Player Name', y = 'Wickets in Death Overs', \n",
    "       caption = 'Data Source: Kaggle', tag = 'B15')"
   ]
  },
  {
   "cell_type": "markdown",
   "id": "19ead13b",
   "metadata": {},
   "source": [
    "#### Lowest Economy Rate in Powerplay Overs (1 - 6) in ICC T20 W"
   ]
  },
  {
   "cell_type": "code",
   "execution_count": 3,
   "id": "c2322533",
   "metadata": {},
   "outputs": [
    {
     "data": {
      "text/html": [
       "<table>\n",
       "<thead><tr><th scope=col>bowler1_name</th><th scope=col>Balls.bowled</th></tr></thead>\n",
       "<tbody>\n",
       "\t<tr><td>Aayan Afzal Khan  </td><td>12                </td></tr>\n",
       "\t<tr><td>Adil Rashid       </td><td>18                </td></tr>\n",
       "\t<tr><td>Akeal Hosein      </td><td>24                </td></tr>\n",
       "\t<tr><td>Alzarri Joseph    </td><td>30                </td></tr>\n",
       "\t<tr><td>Anrich Nortje     </td><td>30                </td></tr>\n",
       "\t<tr><td>Arshdeep Singh    </td><td>54                </td></tr>\n",
       "\t<tr><td>Aryan Lakra       </td><td> 6                </td></tr>\n",
       "\t<tr><td>Axar Patel        </td><td>18                </td></tr>\n",
       "\t<tr><td>Azmatullah Omarzai</td><td> 6                </td></tr>\n",
       "\t<tr><td>Barry McCarthy    </td><td>48                </td></tr>\n",
       "</tbody>\n",
       "</table>\n"
      ],
      "text/latex": [
       "\\begin{tabular}{r|ll}\n",
       " bowler1\\_name & Balls.bowled\\\\\n",
       "\\hline\n",
       "\t Aayan Afzal Khan   & 12                \\\\\n",
       "\t Adil Rashid        & 18                \\\\\n",
       "\t Akeal Hosein       & 24                \\\\\n",
       "\t Alzarri Joseph     & 30                \\\\\n",
       "\t Anrich Nortje      & 30                \\\\\n",
       "\t Arshdeep Singh     & 54                \\\\\n",
       "\t Aryan Lakra        &  6                \\\\\n",
       "\t Axar Patel         & 18                \\\\\n",
       "\t Azmatullah Omarzai &  6                \\\\\n",
       "\t Barry McCarthy     & 48                \\\\\n",
       "\\end{tabular}\n"
      ],
      "text/markdown": [
       "\n",
       "| bowler1_name | Balls.bowled |\n",
       "|---|---|\n",
       "| Aayan Afzal Khan   | 12                 |\n",
       "| Adil Rashid        | 18                 |\n",
       "| Akeal Hosein       | 24                 |\n",
       "| Alzarri Joseph     | 30                 |\n",
       "| Anrich Nortje      | 30                 |\n",
       "| Arshdeep Singh     | 54                 |\n",
       "| Aryan Lakra        |  6                 |\n",
       "| Axar Patel         | 18                 |\n",
       "| Azmatullah Omarzai |  6                 |\n",
       "| Barry McCarthy     | 48                 |\n",
       "\n"
      ],
      "text/plain": [
       "   bowler1_name       Balls.bowled\n",
       "1  Aayan Afzal Khan   12          \n",
       "2  Adil Rashid        18          \n",
       "3  Akeal Hosein       24          \n",
       "4  Alzarri Joseph     30          \n",
       "5  Anrich Nortje      30          \n",
       "6  Arshdeep Singh     54          \n",
       "7  Aryan Lakra         6          \n",
       "8  Axar Patel         18          \n",
       "9  Azmatullah Omarzai  6          \n",
       "10 Barry McCarthy     48          "
      ]
     },
     "metadata": {},
     "output_type": "display_data"
    }
   ],
   "source": [
    "pp.eco1 = details %>% group_by(bowler1_name) %>% \n",
    "  filter(over >= 1 & over <= 6) %>% \n",
    "  filter(isWide == 'FALSE', isNoball == 'FALSE') %>% \n",
    "  summarise(Balls.bowled = n())\n",
    "\n",
    "pp.eco1[1:10, ]"
   ]
  },
  {
   "cell_type": "code",
   "execution_count": 4,
   "id": "09e6288d",
   "metadata": {},
   "outputs": [
    {
     "data": {
      "text/html": [
       "<table>\n",
       "<thead><tr><th scope=col>Bowler_name</th><th scope=col>Run.conceded</th></tr></thead>\n",
       "<tbody>\n",
       "\t<tr><td>Aayan Afzal Khan  </td><td>15                </td></tr>\n",
       "\t<tr><td>Adil Rashid       </td><td>15                </td></tr>\n",
       "\t<tr><td>Akeal Hosein      </td><td>37                </td></tr>\n",
       "\t<tr><td>Alzarri Joseph    </td><td>48                </td></tr>\n",
       "\t<tr><td>Anrich Nortje     </td><td>25                </td></tr>\n",
       "\t<tr><td>Arshdeep Singh    </td><td>58                </td></tr>\n",
       "\t<tr><td>Aryan Lakra       </td><td>10                </td></tr>\n",
       "\t<tr><td>Axar Patel        </td><td>22                </td></tr>\n",
       "\t<tr><td>Azmatullah Omarzai</td><td> 9                </td></tr>\n",
       "\t<tr><td>Barry McCarthy    </td><td>57                </td></tr>\n",
       "</tbody>\n",
       "</table>\n"
      ],
      "text/latex": [
       "\\begin{tabular}{r|ll}\n",
       " Bowler\\_name & Run.conceded\\\\\n",
       "\\hline\n",
       "\t Aayan Afzal Khan   & 15                \\\\\n",
       "\t Adil Rashid        & 15                \\\\\n",
       "\t Akeal Hosein       & 37                \\\\\n",
       "\t Alzarri Joseph     & 48                \\\\\n",
       "\t Anrich Nortje      & 25                \\\\\n",
       "\t Arshdeep Singh     & 58                \\\\\n",
       "\t Aryan Lakra        & 10                \\\\\n",
       "\t Axar Patel         & 22                \\\\\n",
       "\t Azmatullah Omarzai &  9                \\\\\n",
       "\t Barry McCarthy     & 57                \\\\\n",
       "\\end{tabular}\n"
      ],
      "text/markdown": [
       "\n",
       "| Bowler_name | Run.conceded |\n",
       "|---|---|\n",
       "| Aayan Afzal Khan   | 15                 |\n",
       "| Adil Rashid        | 15                 |\n",
       "| Akeal Hosein       | 37                 |\n",
       "| Alzarri Joseph     | 48                 |\n",
       "| Anrich Nortje      | 25                 |\n",
       "| Arshdeep Singh     | 58                 |\n",
       "| Aryan Lakra        | 10                 |\n",
       "| Axar Patel         | 22                 |\n",
       "| Azmatullah Omarzai |  9                 |\n",
       "| Barry McCarthy     | 57                 |\n",
       "\n"
      ],
      "text/plain": [
       "   Bowler_name        Run.conceded\n",
       "1  Aayan Afzal Khan   15          \n",
       "2  Adil Rashid        15          \n",
       "3  Akeal Hosein       37          \n",
       "4  Alzarri Joseph     48          \n",
       "5  Anrich Nortje      25          \n",
       "6  Arshdeep Singh     58          \n",
       "7  Aryan Lakra        10          \n",
       "8  Axar Patel         22          \n",
       "9  Azmatullah Omarzai  9          \n",
       "10 Barry McCarthy     57          "
      ]
     },
     "metadata": {},
     "output_type": "display_data"
    }
   ],
   "source": [
    "pp.eco2 = details %>% group_by(bowler1_name) %>% \n",
    "  filter(over >= 1 & over <=6) %>% \n",
    "  summarise(Run.conceded = sum(runs)) %>% \n",
    "  rename(Bowler_name = bowler1_name)\n",
    "\n",
    "pp.eco2[1:10, ]"
   ]
  },
  {
   "cell_type": "code",
   "execution_count": 5,
   "id": "fdfedfec",
   "metadata": {},
   "outputs": [],
   "source": [
    "pp.eco = cbind(pp.eco1, pp.eco2)"
   ]
  },
  {
   "cell_type": "code",
   "execution_count": 6,
   "id": "772497f0",
   "metadata": {},
   "outputs": [
    {
     "data": {
      "text/html": [
       "<table>\n",
       "<thead><tr><th scope=col>Bowler_name</th><th scope=col>Eco.rate</th></tr></thead>\n",
       "<tbody>\n",
       "\t<tr><td>Taskin Ahmed       </td><td>5.42               </td></tr>\n",
       "\t<tr><td>Shaheen Shah Afridi</td><td>5.46               </td></tr>\n",
       "\t<tr><td>Fred Klaassen      </td><td>5.56               </td></tr>\n",
       "\t<tr><td>Bhuvneshwar Kumar  </td><td>5.69               </td></tr>\n",
       "\t<tr><td>Paul van Meekeren  </td><td>6.08               </td></tr>\n",
       "\t<tr><td>Josh Little        </td><td>6.15               </td></tr>\n",
       "\t<tr><td>Tendai Chatara     </td><td>6.57               </td></tr>\n",
       "\t<tr><td>Naseem Shah        </td><td>6.62               </td></tr>\n",
       "\t<tr><td>Blessing Muzarabani</td><td>6.93               </td></tr>\n",
       "\t<tr><td>Mark Adair         </td><td>7.25               </td></tr>\n",
       "\t<tr><td>Trent Boult        </td><td>7.27               </td></tr>\n",
       "\t<tr><td>Richard Ngarava    </td><td>7.43               </td></tr>\n",
       "\t<tr><td>Chris Woakes       </td><td>8.14               </td></tr>\n",
       "</tbody>\n",
       "</table>\n"
      ],
      "text/latex": [
       "\\begin{tabular}{r|ll}\n",
       " Bowler\\_name & Eco.rate\\\\\n",
       "\\hline\n",
       "\t Taskin Ahmed        & 5.42               \\\\\n",
       "\t Shaheen Shah Afridi & 5.46               \\\\\n",
       "\t Fred Klaassen       & 5.56               \\\\\n",
       "\t Bhuvneshwar Kumar   & 5.69               \\\\\n",
       "\t Paul van Meekeren   & 6.08               \\\\\n",
       "\t Josh Little         & 6.15               \\\\\n",
       "\t Tendai Chatara      & 6.57               \\\\\n",
       "\t Naseem Shah         & 6.62               \\\\\n",
       "\t Blessing Muzarabani & 6.93               \\\\\n",
       "\t Mark Adair          & 7.25               \\\\\n",
       "\t Trent Boult         & 7.27               \\\\\n",
       "\t Richard Ngarava     & 7.43               \\\\\n",
       "\t Chris Woakes        & 8.14               \\\\\n",
       "\\end{tabular}\n"
      ],
      "text/markdown": [
       "\n",
       "| Bowler_name | Eco.rate |\n",
       "|---|---|\n",
       "| Taskin Ahmed        | 5.42                |\n",
       "| Shaheen Shah Afridi | 5.46                |\n",
       "| Fred Klaassen       | 5.56                |\n",
       "| Bhuvneshwar Kumar   | 5.69                |\n",
       "| Paul van Meekeren   | 6.08                |\n",
       "| Josh Little         | 6.15                |\n",
       "| Tendai Chatara      | 6.57                |\n",
       "| Naseem Shah         | 6.62                |\n",
       "| Blessing Muzarabani | 6.93                |\n",
       "| Mark Adair          | 7.25                |\n",
       "| Trent Boult         | 7.27                |\n",
       "| Richard Ngarava     | 7.43                |\n",
       "| Chris Woakes        | 8.14                |\n",
       "\n"
      ],
      "text/plain": [
       "   Bowler_name         Eco.rate\n",
       "1  Taskin Ahmed        5.42    \n",
       "2  Shaheen Shah Afridi 5.46    \n",
       "3  Fred Klaassen       5.56    \n",
       "4  Bhuvneshwar Kumar   5.69    \n",
       "5  Paul van Meekeren   6.08    \n",
       "6  Josh Little         6.15    \n",
       "7  Tendai Chatara      6.57    \n",
       "8  Naseem Shah         6.62    \n",
       "9  Blessing Muzarabani 6.93    \n",
       "10 Mark Adair          7.25    \n",
       "11 Trent Boult         7.27    \n",
       "12 Richard Ngarava     7.43    \n",
       "13 Chris Woakes        8.14    "
      ]
     },
     "metadata": {},
     "output_type": "display_data"
    }
   ],
   "source": [
    "pp.eco.new = pp.eco %>% filter(Balls.bowled > 60) %>% \n",
    "  mutate(Eco.rate = (Run.conceded *6)/ (Balls.bowled)) %>% \n",
    "  select(Bowler_name, Eco.rate) %>% \n",
    " arrange(Eco.rate)\n",
    "\n",
    "pp.eco.new$Eco.rate = round(pp.eco.new$Eco.rate, digits = 2)\n",
    "\n",
    "pp.eco.new"
   ]
  },
  {
   "cell_type": "code",
   "execution_count": 7,
   "id": "7a7a4b28",
   "metadata": {},
   "outputs": [
    {
     "data": {
      "image/png": "[encoded data removed]",
      "text/plain": [
       "plot without title"
      ]
     },
     "metadata": {},
     "output_type": "display_data"
    }
   ],
   "source": [
    "ggplot(pp.eco.new, aes(reorder(Bowler_name, -Eco.rate), Eco.rate)) + \n",
    "  theme_classic() + coord_flip() +\n",
    "  geom_bar(stat = 'identity', fill = 'darkslategray4', col = 'black') +\n",
    "  geom_text(aes(label = Eco.rate, hjust = -0.05)) +\n",
    "  labs(title = 'Lowest Economy Rate in Powerplay Overs (1 - 6) in ICC T20 WC',\n",
    "       x = 'Player Name', y = 'Economy in Powerplay', \n",
    "       caption = 'Data Source: Kaggle', tag = 'B16')"
   ]
  },
  {
   "cell_type": "markdown",
   "id": "fb3bb24b",
   "metadata": {},
   "source": [
    "#### Lowest Economy Rate in Death Overs (16 - 20) in ICC T20 WC"
   ]
  },
  {
   "cell_type": "code",
   "execution_count": 8,
   "id": "c38fde9e",
   "metadata": {},
   "outputs": [
    {
     "data": {
      "text/html": [
       "<table>\n",
       "<thead><tr><th scope=col>bowler1_name</th><th scope=col>Balls.bowled</th></tr></thead>\n",
       "<tbody>\n",
       "\t<tr><td>Aayan Afzal Khan  </td><td> 6                </td></tr>\n",
       "\t<tr><td>Adil Rashid       </td><td>12                </td></tr>\n",
       "\t<tr><td>Alzarri Joseph    </td><td>30                </td></tr>\n",
       "\t<tr><td>Anrich Nortje     </td><td>33                </td></tr>\n",
       "\t<tr><td>Arshdeep Singh    </td><td>36                </td></tr>\n",
       "\t<tr><td>Axar Patel        </td><td> 2                </td></tr>\n",
       "\t<tr><td>Azmatullah Omarzai</td><td> 1                </td></tr>\n",
       "\t<tr><td>Barry McCarthy    </td><td>36                </td></tr>\n",
       "\t<tr><td>Bas de Leede      </td><td>57                </td></tr>\n",
       "\t<tr><td>Ben Stokes        </td><td> 8                </td></tr>\n",
       "</tbody>\n",
       "</table>\n"
      ],
      "text/latex": [
       "\\begin{tabular}{r|ll}\n",
       " bowler1\\_name & Balls.bowled\\\\\n",
       "\\hline\n",
       "\t Aayan Afzal Khan   &  6                \\\\\n",
       "\t Adil Rashid        & 12                \\\\\n",
       "\t Alzarri Joseph     & 30                \\\\\n",
       "\t Anrich Nortje      & 33                \\\\\n",
       "\t Arshdeep Singh     & 36                \\\\\n",
       "\t Axar Patel         &  2                \\\\\n",
       "\t Azmatullah Omarzai &  1                \\\\\n",
       "\t Barry McCarthy     & 36                \\\\\n",
       "\t Bas de Leede       & 57                \\\\\n",
       "\t Ben Stokes         &  8                \\\\\n",
       "\\end{tabular}\n"
      ],
      "text/markdown": [
       "\n",
       "| bowler1_name | Balls.bowled |\n",
       "|---|---|\n",
       "| Aayan Afzal Khan   |  6                 |\n",
       "| Adil Rashid        | 12                 |\n",
       "| Alzarri Joseph     | 30                 |\n",
       "| Anrich Nortje      | 33                 |\n",
       "| Arshdeep Singh     | 36                 |\n",
       "| Axar Patel         |  2                 |\n",
       "| Azmatullah Omarzai |  1                 |\n",
       "| Barry McCarthy     | 36                 |\n",
       "| Bas de Leede       | 57                 |\n",
       "| Ben Stokes         |  8                 |\n",
       "\n"
      ],
      "text/plain": [
       "   bowler1_name       Balls.bowled\n",
       "1  Aayan Afzal Khan    6          \n",
       "2  Adil Rashid        12          \n",
       "3  Alzarri Joseph     30          \n",
       "4  Anrich Nortje      33          \n",
       "5  Arshdeep Singh     36          \n",
       "6  Axar Patel          2          \n",
       "7  Azmatullah Omarzai  1          \n",
       "8  Barry McCarthy     36          \n",
       "9  Bas de Leede       57          \n",
       "10 Ben Stokes          8          "
      ]
     },
     "metadata": {},
     "output_type": "display_data"
    }
   ],
   "source": [
    "last.eco1 = details %>% group_by(bowler1_name) %>% \n",
    "  filter(over >= 16 & over <= 20) %>% \n",
    "  filter(isWide == 'FALSE', isNoball == 'FALSE') %>% \n",
    "  summarise(Balls.bowled = n()) \n",
    "\n",
    "last.eco1[1:10, ]"
   ]
  },
  {
   "cell_type": "code",
   "execution_count": 9,
   "id": "94711971",
   "metadata": {},
   "outputs": [
    {
     "data": {
      "text/html": [
       "<table>\n",
       "<thead><tr><th scope=col>Bowler_name</th><th scope=col>Runs.conceded</th></tr></thead>\n",
       "<tbody>\n",
       "\t<tr><td>Aayan Afzal Khan  </td><td> 4                </td></tr>\n",
       "\t<tr><td>Adil Rashid       </td><td>13                </td></tr>\n",
       "\t<tr><td>Alzarri Joseph    </td><td>22                </td></tr>\n",
       "\t<tr><td>Anrich Nortje     </td><td>42                </td></tr>\n",
       "\t<tr><td>Arshdeep Singh    </td><td>63                </td></tr>\n",
       "\t<tr><td>Axar Patel        </td><td> 4                </td></tr>\n",
       "\t<tr><td>Azmatullah Omarzai</td><td> 2                </td></tr>\n",
       "\t<tr><td>Barry McCarthy    </td><td>79                </td></tr>\n",
       "\t<tr><td>Bas de Leede      </td><td>72                </td></tr>\n",
       "\t<tr><td>Ben Stokes        </td><td>14                </td></tr>\n",
       "</tbody>\n",
       "</table>\n"
      ],
      "text/latex": [
       "\\begin{tabular}{r|ll}\n",
       " Bowler\\_name & Runs.conceded\\\\\n",
       "\\hline\n",
       "\t Aayan Afzal Khan   &  4                \\\\\n",
       "\t Adil Rashid        & 13                \\\\\n",
       "\t Alzarri Joseph     & 22                \\\\\n",
       "\t Anrich Nortje      & 42                \\\\\n",
       "\t Arshdeep Singh     & 63                \\\\\n",
       "\t Axar Patel         &  4                \\\\\n",
       "\t Azmatullah Omarzai &  2                \\\\\n",
       "\t Barry McCarthy     & 79                \\\\\n",
       "\t Bas de Leede       & 72                \\\\\n",
       "\t Ben Stokes         & 14                \\\\\n",
       "\\end{tabular}\n"
      ],
      "text/markdown": [
       "\n",
       "| Bowler_name | Runs.conceded |\n",
       "|---|---|\n",
       "| Aayan Afzal Khan   |  4                 |\n",
       "| Adil Rashid        | 13                 |\n",
       "| Alzarri Joseph     | 22                 |\n",
       "| Anrich Nortje      | 42                 |\n",
       "| Arshdeep Singh     | 63                 |\n",
       "| Axar Patel         |  4                 |\n",
       "| Azmatullah Omarzai |  2                 |\n",
       "| Barry McCarthy     | 79                 |\n",
       "| Bas de Leede       | 72                 |\n",
       "| Ben Stokes         | 14                 |\n",
       "\n"
      ],
      "text/plain": [
       "   Bowler_name        Runs.conceded\n",
       "1  Aayan Afzal Khan    4           \n",
       "2  Adil Rashid        13           \n",
       "3  Alzarri Joseph     22           \n",
       "4  Anrich Nortje      42           \n",
       "5  Arshdeep Singh     63           \n",
       "6  Axar Patel          4           \n",
       "7  Azmatullah Omarzai  2           \n",
       "8  Barry McCarthy     79           \n",
       "9  Bas de Leede       72           \n",
       "10 Ben Stokes         14           "
      ]
     },
     "metadata": {},
     "output_type": "display_data"
    }
   ],
   "source": [
    "last.eco2 = details %>% group_by(bowler1_name) %>% \n",
    "  filter(over >= 16 & over <= 20) %>% \n",
    "  summarise(Runs.conceded = sum(runs)) %>% \n",
    "  rename(Bowler_name = bowler1_name)\n",
    "\n",
    "last.eco2[1:10, ]"
   ]
  },
  {
   "cell_type": "code",
   "execution_count": 10,
   "id": "84129b8b",
   "metadata": {},
   "outputs": [],
   "source": [
    "last.eco = cbind(last.eco1, last.eco2)"
   ]
  },
  {
   "cell_type": "code",
   "execution_count": 11,
   "id": "d42d55bc",
   "metadata": {},
   "outputs": [
    {
     "data": {
      "text/html": [
       "<table>\n",
       "<thead><tr><th scope=col>Bowler_name</th><th scope=col>Eco.rate</th></tr></thead>\n",
       "<tbody>\n",
       "\t<tr><td>Naseem Shah        </td><td>6.57               </td></tr>\n",
       "\t<tr><td>Sam Curran         </td><td>6.75               </td></tr>\n",
       "\t<tr><td>Paul van Meekeren  </td><td>6.83               </td></tr>\n",
       "\t<tr><td>Shaheen Shah Afridi</td><td>6.97               </td></tr>\n",
       "\t<tr><td>Trent Boult        </td><td>7.17               </td></tr>\n",
       "\t<tr><td>Haris Rauf         </td><td>7.20               </td></tr>\n",
       "\t<tr><td>Tim Southee        </td><td>7.42               </td></tr>\n",
       "\t<tr><td>Bas de Leede       </td><td>7.58               </td></tr>\n",
       "\t<tr><td>Anrich Nortje      </td><td>7.64               </td></tr>\n",
       "\t<tr><td>Richard Ngarava    </td><td>7.69               </td></tr>\n",
       "</tbody>\n",
       "</table>\n"
      ],
      "text/latex": [
       "\\begin{tabular}{r|ll}\n",
       " Bowler\\_name & Eco.rate\\\\\n",
       "\\hline\n",
       "\t Naseem Shah         & 6.57               \\\\\n",
       "\t Sam Curran          & 6.75               \\\\\n",
       "\t Paul van Meekeren   & 6.83               \\\\\n",
       "\t Shaheen Shah Afridi & 6.97               \\\\\n",
       "\t Trent Boult         & 7.17               \\\\\n",
       "\t Haris Rauf          & 7.20               \\\\\n",
       "\t Tim Southee         & 7.42               \\\\\n",
       "\t Bas de Leede        & 7.58               \\\\\n",
       "\t Anrich Nortje       & 7.64               \\\\\n",
       "\t Richard Ngarava     & 7.69               \\\\\n",
       "\\end{tabular}\n"
      ],
      "text/markdown": [
       "\n",
       "| Bowler_name | Eco.rate |\n",
       "|---|---|\n",
       "| Naseem Shah         | 6.57                |\n",
       "| Sam Curran          | 6.75                |\n",
       "| Paul van Meekeren   | 6.83                |\n",
       "| Shaheen Shah Afridi | 6.97                |\n",
       "| Trent Boult         | 7.17                |\n",
       "| Haris Rauf          | 7.20                |\n",
       "| Tim Southee         | 7.42                |\n",
       "| Bas de Leede        | 7.58                |\n",
       "| Anrich Nortje       | 7.64                |\n",
       "| Richard Ngarava     | 7.69                |\n",
       "\n"
      ],
      "text/plain": [
       "   Bowler_name         Eco.rate\n",
       "1  Naseem Shah         6.57    \n",
       "2  Sam Curran          6.75    \n",
       "3  Paul van Meekeren   6.83    \n",
       "4  Shaheen Shah Afridi 6.97    \n",
       "5  Trent Boult         7.17    \n",
       "6  Haris Rauf          7.20    \n",
       "7  Tim Southee         7.42    \n",
       "8  Bas de Leede        7.58    \n",
       "9  Anrich Nortje       7.64    \n",
       "10 Richard Ngarava     7.69    "
      ]
     },
     "metadata": {},
     "output_type": "display_data"
    }
   ],
   "source": [
    "last.eco.new = last.eco %>% filter(Balls.bowled > 30) %>%\n",
    "  filter(!Bowler_name == 'David Wiese') %>% \n",
    "  mutate(Eco.rate = (Runs.conceded *6)/(Balls.bowled)) %>% \n",
    "  select(Bowler_name, Eco.rate) %>% arrange(Eco.rate) %>% slice(1:10)\n",
    "\n",
    "last.eco.new$Eco.rate = round(last.eco.new$Eco.rate, digits = 2)\n",
    "\n",
    "last.eco.new"
   ]
  },
  {
   "cell_type": "code",
   "execution_count": 13,
   "id": "3c863008",
   "metadata": {},
   "outputs": [
    {
     "data": {
      "image/png": "[encoded data removed]",
      "text/plain": [
       "plot without title"
      ]
     },
     "metadata": {},
     "output_type": "display_data"
    }
   ],
   "source": [
    "ggplot(last.eco.new, aes(reorder(Bowler_name, -Eco.rate), Eco.rate)) + \n",
    "  theme_classic() + coord_flip() +\n",
    "  geom_bar(stat = 'identity', fill = 'darkslategray4', col = 'black') +\n",
    "  geom_text(aes(label = Eco.rate, hjust = -0.005)) +\n",
    "  labs(title = 'Lowest Economy Rate in Death Overs (16 - 20) in ICC T20 WC',\n",
    "       x = 'Player Name', y = 'Economy in Death Overs', \n",
    "       caption = 'Data Source: Kaggle', tag = 'B17')"
   ]
  },
  {
   "cell_type": "markdown",
   "id": "1770051f",
   "metadata": {},
   "source": [
    "### Analysis on Various Stadiums used for T20 WC 2022"
   ]
  },
  {
   "cell_type": "markdown",
   "id": "e0c92c72",
   "metadata": {},
   "source": [
    "#### Stadiums that Hosted Max. No. of Matches in ICC T20 WC 2022"
   ]
  },
  {
   "cell_type": "code",
   "execution_count": 14,
   "id": "3c9f7f6a",
   "metadata": {},
   "outputs": [
    {
     "data": {
      "text/html": [
       "<table>\n",
       "<thead><tr><th scope=col>venue_name</th><th scope=col>Matches</th></tr></thead>\n",
       "<tbody>\n",
       "\t<tr><td>Adelaide Oval                                   </td><td>7                                               </td></tr>\n",
       "\t<tr><td>Bellerive Oval, Hobart                          </td><td>9                                               </td></tr>\n",
       "\t<tr><td>Brisbane Cricket Ground, Woolloongabba, Brisbane</td><td>4                                               </td></tr>\n",
       "\t<tr><td>Melbourne Cricket Ground                        </td><td>7                                               </td></tr>\n",
       "\t<tr><td>Perth Stadium                                   </td><td>5                                               </td></tr>\n",
       "\t<tr><td>Simonds Stadium, South Geelong, Victoria        </td><td>6                                               </td></tr>\n",
       "\t<tr><td>Sydney Cricket Ground                           </td><td>7                                               </td></tr>\n",
       "</tbody>\n",
       "</table>\n"
      ],
      "text/latex": [
       "\\begin{tabular}{r|ll}\n",
       " venue\\_name & Matches\\\\\n",
       "\\hline\n",
       "\t Adelaide Oval                                    & 7                                               \\\\\n",
       "\t Bellerive Oval, Hobart                           & 9                                               \\\\\n",
       "\t Brisbane Cricket Ground, Woolloongabba, Brisbane & 4                                               \\\\\n",
       "\t Melbourne Cricket Ground                         & 7                                               \\\\\n",
       "\t Perth Stadium                                    & 5                                               \\\\\n",
       "\t Simonds Stadium, South Geelong, Victoria         & 6                                               \\\\\n",
       "\t Sydney Cricket Ground                            & 7                                               \\\\\n",
       "\\end{tabular}\n"
      ],
      "text/markdown": [
       "\n",
       "| venue_name | Matches |\n",
       "|---|---|\n",
       "| Adelaide Oval                                    | 7                                                |\n",
       "| Bellerive Oval, Hobart                           | 9                                                |\n",
       "| Brisbane Cricket Ground, Woolloongabba, Brisbane | 4                                                |\n",
       "| Melbourne Cricket Ground                         | 7                                                |\n",
       "| Perth Stadium                                    | 5                                                |\n",
       "| Simonds Stadium, South Geelong, Victoria         | 6                                                |\n",
       "| Sydney Cricket Ground                            | 7                                                |\n",
       "\n"
      ],
      "text/plain": [
       "  venue_name                                       Matches\n",
       "1 Adelaide Oval                                    7      \n",
       "2 Bellerive Oval, Hobart                           9      \n",
       "3 Brisbane Cricket Ground, Woolloongabba, Brisbane 4      \n",
       "4 Melbourne Cricket Ground                         7      \n",
       "5 Perth Stadium                                    5      \n",
       "6 Simonds Stadium, South Geelong, Victoria         6      \n",
       "7 Sydney Cricket Ground                            7      "
      ]
     },
     "metadata": {},
     "output_type": "display_data"
    }
   ],
   "source": [
    "venue = t20.sum %>% group_by(venue_name) %>% \n",
    "  summarise(Matches = n())\n",
    "\n",
    "venue"
   ]
  },
  {
   "cell_type": "code",
   "execution_count": 16,
   "id": "dfa60b83",
   "metadata": {},
   "outputs": [
    {
     "data": {
      "image/png": "[encoded data removed]",
      "text/plain": [
       "plot without title"
      ]
     },
     "metadata": {},
     "output_type": "display_data"
    }
   ],
   "source": [
    "ggplot(venue, aes(reorder(venue_name, Matches), Matches)) +\n",
    "  theme_classic() + coord_flip() +\n",
    "  geom_bar(stat = 'identity', fill = 'darkslategray4', col = 'black') +\n",
    "  geom_text(aes(label = Matches , hjust = -0.3)) +\n",
    "  labs(title = 'Stadiums Which Hosted Max. No. of Matches in ICC T20 WC 2022', \n",
    "       x = 'Stadium Name', caption = 'Data Source: Kaggle', tag = 'C1') + \n",
    "  scale_y_continuous(breaks = c(0,3,6,9))"
   ]
  },
  {
   "cell_type": "markdown",
   "id": "7287dd3c",
   "metadata": {},
   "source": [
    "#### Most Wins After Batting First on a Particular Stadium in ICC T20 WC 2022"
   ]
  },
  {
   "cell_type": "code",
   "execution_count": 23,
   "id": "aafb929b",
   "metadata": {},
   "outputs": [],
   "source": [
    "ven.bat1 = t20.sum %>% group_by(venue_name) %>% \n",
    "  filter(decision == 'BAT FIRST') %>% summarise(Wins_after_bat_first = n()) %>% \n",
    "  rename(x = venue_name)  %>% rename(Stadium = x)"
   ]
  },
  {
   "cell_type": "code",
   "execution_count": 24,
   "id": "e59edca4",
   "metadata": {},
   "outputs": [
    {
     "data": {
      "text/html": [
       "<table>\n",
       "<thead><tr><th scope=col>venue_name</th><th scope=col>Matches</th><th scope=col>Wins_after_bat_first</th></tr></thead>\n",
       "<tbody>\n",
       "\t<tr><td>Adelaide Oval                                   </td><td>7                                               </td><td>2                                               </td></tr>\n",
       "\t<tr><td>Bellerive Oval, Hobart                          </td><td>9                                               </td><td>6                                               </td></tr>\n",
       "\t<tr><td>Brisbane Cricket Ground, Woolloongabba, Brisbane</td><td>4                                               </td><td>3                                               </td></tr>\n",
       "\t<tr><td>Melbourne Cricket Ground                        </td><td>7                                               </td><td>1                                               </td></tr>\n",
       "\t<tr><td>Perth Stadium                                   </td><td>5                                               </td><td>3                                               </td></tr>\n",
       "\t<tr><td>Simonds Stadium, South Geelong, Victoria        </td><td>6                                               </td><td>4                                               </td></tr>\n",
       "\t<tr><td>Sydney Cricket Ground                           </td><td>7                                               </td><td>6                                               </td></tr>\n",
       "</tbody>\n",
       "</table>\n"
      ],
      "text/latex": [
       "\\begin{tabular}{r|lll}\n",
       " venue\\_name & Matches & Wins\\_after\\_bat\\_first\\\\\n",
       "\\hline\n",
       "\t Adelaide Oval                                    & 7                                                & 2                                               \\\\\n",
       "\t Bellerive Oval, Hobart                           & 9                                                & 6                                               \\\\\n",
       "\t Brisbane Cricket Ground, Woolloongabba, Brisbane & 4                                                & 3                                               \\\\\n",
       "\t Melbourne Cricket Ground                         & 7                                                & 1                                               \\\\\n",
       "\t Perth Stadium                                    & 5                                                & 3                                               \\\\\n",
       "\t Simonds Stadium, South Geelong, Victoria         & 6                                                & 4                                               \\\\\n",
       "\t Sydney Cricket Ground                            & 7                                                & 6                                               \\\\\n",
       "\\end{tabular}\n"
      ],
      "text/markdown": [
       "\n",
       "| venue_name | Matches | Wins_after_bat_first |\n",
       "|---|---|---|\n",
       "| Adelaide Oval                                    | 7                                                | 2                                                |\n",
       "| Bellerive Oval, Hobart                           | 9                                                | 6                                                |\n",
       "| Brisbane Cricket Ground, Woolloongabba, Brisbane | 4                                                | 3                                                |\n",
       "| Melbourne Cricket Ground                         | 7                                                | 1                                                |\n",
       "| Perth Stadium                                    | 5                                                | 3                                                |\n",
       "| Simonds Stadium, South Geelong, Victoria         | 6                                                | 4                                                |\n",
       "| Sydney Cricket Ground                            | 7                                                | 6                                                |\n",
       "\n"
      ],
      "text/plain": [
       "  venue_name                                       Matches Wins_after_bat_first\n",
       "1 Adelaide Oval                                    7       2                   \n",
       "2 Bellerive Oval, Hobart                           9       6                   \n",
       "3 Brisbane Cricket Ground, Woolloongabba, Brisbane 4       3                   \n",
       "4 Melbourne Cricket Ground                         7       1                   \n",
       "5 Perth Stadium                                    5       3                   \n",
       "6 Simonds Stadium, South Geelong, Victoria         6       4                   \n",
       "7 Sydney Cricket Ground                            7       6                   "
      ]
     },
     "metadata": {},
     "output_type": "display_data"
    }
   ],
   "source": [
    "ven.bat = cbind(venue, ven.bat1)\n",
    "\n",
    "ven.bat = ven.bat %>% select(venue_name, Matches, Wins_after_bat_first)\n",
    "\n",
    "ven.bat"
   ]
  },
  {
   "cell_type": "code",
   "execution_count": 26,
   "id": "f86b82f5",
   "metadata": {},
   "outputs": [
    {
     "data": {
      "image/png": "[encoded data removed]",
      "text/plain": [
       "plot without title"
      ]
     },
     "metadata": {},
     "output_type": "display_data"
    }
   ],
   "source": [
    "ggplot(ven.bat, aes(reorder(venue_name, Wins_after_bat_first), \n",
    "                    Wins_after_bat_first)) +\n",
    "  theme_classic() + coord_flip() +\n",
    "  geom_bar(stat = 'identity', fill = 'darkslategray4', col = 'black') +\n",
    "  geom_text(aes(label = Wins_after_bat_first , hjust = -0.3)) +\n",
    "  labs(title = 'Most Wins After Batting First in ICC T20 WC 2022', \n",
    "  x = 'Stadium Name', caption = 'Data Source: Kaggle', tag = 'C2',\n",
    "  y = 'No. of Wins')\n"
   ]
  },
  {
   "cell_type": "markdown",
   "id": "1975f09c",
   "metadata": {},
   "source": [
    "#### Most Wins After Batting Second on a Particular Stadium in ICC T20 WC 2022"
   ]
  },
  {
   "cell_type": "code",
   "execution_count": 27,
   "id": "dcc4bba6",
   "metadata": {},
   "outputs": [],
   "source": [
    "ven.bowl.1 = t20.sum %>% group_by(venue_name) %>% \n",
    "  filter(decision == 'BOWL FIRST') %>%\n",
    "  summarise(Wins_after_bat_second = n()) %>% rename(x = venue_name)"
   ]
  },
  {
   "cell_type": "code",
   "execution_count": 28,
   "id": "62b7cfbe",
   "metadata": {},
   "outputs": [
    {
     "data": {
      "text/html": [
       "<table>\n",
       "<thead><tr><th scope=col>venue_name</th><th scope=col>Matches</th><th scope=col>Wins_after_bat_second</th></tr></thead>\n",
       "<tbody>\n",
       "\t<tr><td>Adelaide Oval                                   </td><td>7                                               </td><td>5                                               </td></tr>\n",
       "\t<tr><td>Bellerive Oval, Hobart                          </td><td>9                                               </td><td>3                                               </td></tr>\n",
       "\t<tr><td>Brisbane Cricket Ground, Woolloongabba, Brisbane</td><td>4                                               </td><td>1                                               </td></tr>\n",
       "\t<tr><td>Melbourne Cricket Ground                        </td><td>7                                               </td><td>3                                               </td></tr>\n",
       "\t<tr><td>Perth Stadium                                   </td><td>5                                               </td><td>2                                               </td></tr>\n",
       "\t<tr><td>Simonds Stadium, South Geelong, Victoria        </td><td>6                                               </td><td>2                                               </td></tr>\n",
       "\t<tr><td>Sydney Cricket Ground                           </td><td>7                                               </td><td>1                                               </td></tr>\n",
       "</tbody>\n",
       "</table>\n"
      ],
      "text/latex": [
       "\\begin{tabular}{r|lll}\n",
       " venue\\_name & Matches & Wins\\_after\\_bat\\_second\\\\\n",
       "\\hline\n",
       "\t Adelaide Oval                                    & 7                                                & 5                                               \\\\\n",
       "\t Bellerive Oval, Hobart                           & 9                                                & 3                                               \\\\\n",
       "\t Brisbane Cricket Ground, Woolloongabba, Brisbane & 4                                                & 1                                               \\\\\n",
       "\t Melbourne Cricket Ground                         & 7                                                & 3                                               \\\\\n",
       "\t Perth Stadium                                    & 5                                                & 2                                               \\\\\n",
       "\t Simonds Stadium, South Geelong, Victoria         & 6                                                & 2                                               \\\\\n",
       "\t Sydney Cricket Ground                            & 7                                                & 1                                               \\\\\n",
       "\\end{tabular}\n"
      ],
      "text/markdown": [
       "\n",
       "| venue_name | Matches | Wins_after_bat_second |\n",
       "|---|---|---|\n",
       "| Adelaide Oval                                    | 7                                                | 5                                                |\n",
       "| Bellerive Oval, Hobart                           | 9                                                | 3                                                |\n",
       "| Brisbane Cricket Ground, Woolloongabba, Brisbane | 4                                                | 1                                                |\n",
       "| Melbourne Cricket Ground                         | 7                                                | 3                                                |\n",
       "| Perth Stadium                                    | 5                                                | 2                                                |\n",
       "| Simonds Stadium, South Geelong, Victoria         | 6                                                | 2                                                |\n",
       "| Sydney Cricket Ground                            | 7                                                | 1                                                |\n",
       "\n"
      ],
      "text/plain": [
       "  venue_name                                       Matches\n",
       "1 Adelaide Oval                                    7      \n",
       "2 Bellerive Oval, Hobart                           9      \n",
       "3 Brisbane Cricket Ground, Woolloongabba, Brisbane 4      \n",
       "4 Melbourne Cricket Ground                         7      \n",
       "5 Perth Stadium                                    5      \n",
       "6 Simonds Stadium, South Geelong, Victoria         6      \n",
       "7 Sydney Cricket Ground                            7      \n",
       "  Wins_after_bat_second\n",
       "1 5                    \n",
       "2 3                    \n",
       "3 1                    \n",
       "4 3                    \n",
       "5 2                    \n",
       "6 2                    \n",
       "7 1                    "
      ]
     },
     "metadata": {},
     "output_type": "display_data"
    }
   ],
   "source": [
    "ven.bowl = cbind(venue, ven.bowl.1)\n",
    "\n",
    "ven.bowl = ven.bowl %>% select(venue_name, Matches, Wins_after_bat_second)\n",
    "\n",
    "ven.bowl"
   ]
  },
  {
   "cell_type": "code",
   "execution_count": 30,
   "id": "18b90881",
   "metadata": {},
   "outputs": [
    {
     "data": {
      "image/png": "[encoded data removed]",
      "text/plain": [
       "plot without title"
      ]
     },
     "metadata": {},
     "output_type": "display_data"
    }
   ],
   "source": [
    "ggplot(ven.bowl, aes(reorder(venue_name, Wins_after_bat_second), Wins_after_bat_second)) +\n",
    "  theme_classic() + coord_flip() +\n",
    "  geom_bar(stat = 'identity', fill = 'darkslategray4', col = 'black') +\n",
    "  geom_text(aes(label = Wins_after_bat_second , hjust = -0.3)) +\n",
    "  labs(title = 'Most Wins After Batting Second in ICC T20 WC 2022', \n",
    "       x = 'Stadium Name', caption = 'Data Source: Kaggle', tag = 'C3',\n",
    "       y = 'No. of Wins')"
   ]
  },
  {
   "cell_type": "markdown",
   "id": "87ba4e2e",
   "metadata": {},
   "source": [
    "#### Win % After Batting Second on a Particular Stadium in ICC T20 WC 2022"
   ]
  },
  {
   "cell_type": "code",
   "execution_count": 31,
   "id": "a53959f3",
   "metadata": {},
   "outputs": [
    {
     "data": {
      "text/html": [
       "<table>\n",
       "<thead><tr><th scope=col>venue_name</th><th scope=col>Bat_second_win_ratio</th></tr></thead>\n",
       "<tbody>\n",
       "\t<tr><td>Adelaide Oval                                   </td><td>71.43%                                          </td></tr>\n",
       "\t<tr><td>Bellerive Oval, Hobart                          </td><td>33.33%                                          </td></tr>\n",
       "\t<tr><td>Brisbane Cricket Ground, Woolloongabba, Brisbane</td><td>25%                                             </td></tr>\n",
       "\t<tr><td>Melbourne Cricket Ground                        </td><td>42.86%                                          </td></tr>\n",
       "\t<tr><td>Perth Stadium                                   </td><td>40%                                             </td></tr>\n",
       "\t<tr><td>Simonds Stadium, South Geelong, Victoria        </td><td>33.33%                                          </td></tr>\n",
       "\t<tr><td>Sydney Cricket Ground                           </td><td>14.29%                                          </td></tr>\n",
       "</tbody>\n",
       "</table>\n"
      ],
      "text/latex": [
       "\\begin{tabular}{r|ll}\n",
       " venue\\_name & Bat\\_second\\_win\\_ratio\\\\\n",
       "\\hline\n",
       "\t Adelaide Oval                                    & 71.43\\%                                        \\\\\n",
       "\t Bellerive Oval, Hobart                           & 33.33\\%                                        \\\\\n",
       "\t Brisbane Cricket Ground, Woolloongabba, Brisbane & 25\\%                                           \\\\\n",
       "\t Melbourne Cricket Ground                         & 42.86\\%                                        \\\\\n",
       "\t Perth Stadium                                    & 40\\%                                           \\\\\n",
       "\t Simonds Stadium, South Geelong, Victoria         & 33.33\\%                                        \\\\\n",
       "\t Sydney Cricket Ground                            & 14.29\\%                                        \\\\\n",
       "\\end{tabular}\n"
      ],
      "text/markdown": [
       "\n",
       "| venue_name | Bat_second_win_ratio |\n",
       "|---|---|\n",
       "| Adelaide Oval                                    | 71.43%                                           |\n",
       "| Bellerive Oval, Hobart                           | 33.33%                                           |\n",
       "| Brisbane Cricket Ground, Woolloongabba, Brisbane | 25%                                              |\n",
       "| Melbourne Cricket Ground                         | 42.86%                                           |\n",
       "| Perth Stadium                                    | 40%                                              |\n",
       "| Simonds Stadium, South Geelong, Victoria         | 33.33%                                           |\n",
       "| Sydney Cricket Ground                            | 14.29%                                           |\n",
       "\n"
      ],
      "text/plain": [
       "  venue_name                                       Bat_second_win_ratio\n",
       "1 Adelaide Oval                                    71.43%              \n",
       "2 Bellerive Oval, Hobart                           33.33%              \n",
       "3 Brisbane Cricket Ground, Woolloongabba, Brisbane 25%                 \n",
       "4 Melbourne Cricket Ground                         42.86%              \n",
       "5 Perth Stadium                                    40%                 \n",
       "6 Simonds Stadium, South Geelong, Victoria         33.33%              \n",
       "7 Sydney Cricket Ground                            14.29%              "
      ]
     },
     "metadata": {},
     "output_type": "display_data"
    }
   ],
   "source": [
    "ven.bowl.ratio =  ven.bowl %>% mutate(Bat_second_win_ratio = \n",
    "                      round(Wins_after_bat_second/Matches*100,digits = 2)) %>% \n",
    "  select(venue_name, Bat_second_win_ratio)\n",
    "\n",
    "ven.bowl.ratio$Bat_second_win_ratio = paste0(ven.bowl.ratio$Bat_second_win_ratio,\"%\")\n",
    "\n",
    "ven.bowl.ratio"
   ]
  },
  {
   "cell_type": "code",
   "execution_count": 42,
   "id": "dc762bcb",
   "metadata": {},
   "outputs": [
    {
     "data": {
      "image/png": "[encoded data removed]",
      "text/plain": [
       "plot without title"
      ]
     },
     "metadata": {},
     "output_type": "display_data"
    }
   ],
   "source": [
    "ggplot(ven.bowl.ratio, aes(reorder(venue_name, Bat_second_win_ratio), \n",
    "                           Bat_second_win_ratio)) +\n",
    "  theme_classic() + coord_flip() +\n",
    "  geom_bar(stat = 'identity', fill = 'darkslategray4', col = 'black') +\n",
    "  geom_text(aes(label = Bat_second_win_ratio , hjust = -0.1)) +\n",
    "  labs(title = 'Win % After Batting Second in ICC T20 WC', \n",
    "       x = 'Stadium Name', caption = 'Data Source: Kaggle', tag = 'C4',\n",
    "       y = 'Ratio')"
   ]
  },
  {
   "cell_type": "markdown",
   "id": "d6d4a0af",
   "metadata": {},
   "source": [
    "#### Win % After Batting First on a Particular Stadium in ICC T20 WC 2022"
   ]
  },
  {
   "cell_type": "code",
   "execution_count": 32,
   "id": "748692b3",
   "metadata": {},
   "outputs": [
    {
     "data": {
      "text/html": [
       "<table>\n",
       "<thead><tr><th scope=col>venue_name</th><th scope=col>Bat_first_win_ratio</th></tr></thead>\n",
       "<tbody>\n",
       "\t<tr><td>Adelaide Oval                                   </td><td>28.57%                                          </td></tr>\n",
       "\t<tr><td>Bellerive Oval, Hobart                          </td><td>66.67%                                          </td></tr>\n",
       "\t<tr><td>Brisbane Cricket Ground, Woolloongabba, Brisbane</td><td>75%                                             </td></tr>\n",
       "\t<tr><td>Melbourne Cricket Ground                        </td><td>14.29%                                          </td></tr>\n",
       "\t<tr><td>Perth Stadium                                   </td><td>60%                                             </td></tr>\n",
       "\t<tr><td>Simonds Stadium, South Geelong, Victoria        </td><td>66.67%                                          </td></tr>\n",
       "\t<tr><td>Sydney Cricket Ground                           </td><td>85.71%                                          </td></tr>\n",
       "</tbody>\n",
       "</table>\n"
      ],
      "text/latex": [
       "\\begin{tabular}{r|ll}\n",
       " venue\\_name & Bat\\_first\\_win\\_ratio\\\\\n",
       "\\hline\n",
       "\t Adelaide Oval                                    & 28.57\\%                                        \\\\\n",
       "\t Bellerive Oval, Hobart                           & 66.67\\%                                        \\\\\n",
       "\t Brisbane Cricket Ground, Woolloongabba, Brisbane & 75\\%                                           \\\\\n",
       "\t Melbourne Cricket Ground                         & 14.29\\%                                        \\\\\n",
       "\t Perth Stadium                                    & 60\\%                                           \\\\\n",
       "\t Simonds Stadium, South Geelong, Victoria         & 66.67\\%                                        \\\\\n",
       "\t Sydney Cricket Ground                            & 85.71\\%                                        \\\\\n",
       "\\end{tabular}\n"
      ],
      "text/markdown": [
       "\n",
       "| venue_name | Bat_first_win_ratio |\n",
       "|---|---|\n",
       "| Adelaide Oval                                    | 28.57%                                           |\n",
       "| Bellerive Oval, Hobart                           | 66.67%                                           |\n",
       "| Brisbane Cricket Ground, Woolloongabba, Brisbane | 75%                                              |\n",
       "| Melbourne Cricket Ground                         | 14.29%                                           |\n",
       "| Perth Stadium                                    | 60%                                              |\n",
       "| Simonds Stadium, South Geelong, Victoria         | 66.67%                                           |\n",
       "| Sydney Cricket Ground                            | 85.71%                                           |\n",
       "\n"
      ],
      "text/plain": [
       "  venue_name                                       Bat_first_win_ratio\n",
       "1 Adelaide Oval                                    28.57%             \n",
       "2 Bellerive Oval, Hobart                           66.67%             \n",
       "3 Brisbane Cricket Ground, Woolloongabba, Brisbane 75%                \n",
       "4 Melbourne Cricket Ground                         14.29%             \n",
       "5 Perth Stadium                                    60%                \n",
       "6 Simonds Stadium, South Geelong, Victoria         66.67%             \n",
       "7 Sydney Cricket Ground                            85.71%             "
      ]
     },
     "metadata": {},
     "output_type": "display_data"
    }
   ],
   "source": [
    "ven.bat.ratio = ven.bat %>% mutate(Bat_first_win_ratio = \n",
    "                   round(Wins_after_bat_first/Matches*100,digits = 2)) %>% \n",
    "  select(venue_name, Bat_first_win_ratio)\n",
    "\n",
    "ven.bat.ratio$Bat_first_win_ratio = paste0(ven.bat.ratio$Bat_first_win_ratio,'%')\n",
    "\n",
    "ven.bat.ratio"
   ]
  },
  {
   "cell_type": "code",
   "execution_count": 43,
   "id": "3159fd3d",
   "metadata": {},
   "outputs": [
    {
     "data": {
      "image/png": "[encoded data removed]",
      "text/plain": [
       "plot without title"
      ]
     },
     "metadata": {},
     "output_type": "display_data"
    }
   ],
   "source": [
    "ggplot(ven.bat.ratio, aes(reorder(venue_name, Bat_first_win_ratio), \n",
    "                          Bat_first_win_ratio)) +\n",
    "  theme_classic() + coord_flip() +\n",
    "  geom_bar(stat = 'identity', fill = 'darkslategray4', col = 'black') +\n",
    "  geom_text(aes(label = Bat_first_win_ratio, hjust = -0.01)) +\n",
    "  labs(title = 'Win % After Batting First in ICC T20 WC 2022', \n",
    "       x = 'Stadium Name', caption = 'Data Source: Kaggle', tag = 'C5',\n",
    "       y = 'Ratio')\n"
   ]
  },
  {
   "cell_type": "code",
   "execution_count": null,
   "id": "a12212ff",
   "metadata": {},
   "outputs": [],
   "source": []
  }
 ],
 "metadata": {
  "kernelspec": {
   "display_name": "R",
   "language": "R",
   "name": "ir"
  },
  "language_info": {
   "codemirror_mode": "r",
   "file_extension": ".r",
   "mimetype": "text/x-r-source",
   "name": "R",
   "pygments_lexer": "r",
   "version": "3.6.1"
  }
 },
 "nbformat": 4,
 "nbformat_minor": 5
}
